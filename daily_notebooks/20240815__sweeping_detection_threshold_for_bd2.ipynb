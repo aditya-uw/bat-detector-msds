{
 "cells": [
  {
   "cell_type": "markdown",
   "metadata": {},
   "source": [
    "# Methods Notebook: Extracting Call Samples for KMeans Clustering"
   ]
  },
  {
   "cell_type": "markdown",
   "metadata": {},
   "source": [
    "## Imports Section:"
   ]
  },
  {
   "cell_type": "code",
   "execution_count": 1,
   "metadata": {},
   "outputs": [],
   "source": [
    "import numpy as np\n",
    "import pandas as pd\n",
    "import random\n",
    "import scipy\n",
    "from scipy import stats\n",
    "import datetime as dt\n",
    "import dask.dataframe as dd"
   ]
  },
  {
   "cell_type": "code",
   "execution_count": 2,
   "metadata": {},
   "outputs": [],
   "source": [
    "import librosa\n",
    "import warnings"
   ]
  },
  {
   "cell_type": "code",
   "execution_count": 3,
   "metadata": {},
   "outputs": [],
   "source": [
    "import glob\n",
    "import matplotlib.pyplot as plt\n",
    "from matplotlib import colors\n",
    "import soundfile as sf\n",
    "import matplotlib.patches as patches\n",
    "from pathlib import Path"
   ]
  },
  {
   "cell_type": "code",
   "execution_count": 4,
   "metadata": {},
   "outputs": [],
   "source": [
    "import torch\n",
    "import torch.nn as nn\n",
    "import torch.nn.functional as F\n",
    "from tqdm import tqdm"
   ]
  },
  {
   "cell_type": "code",
   "execution_count": 5,
   "metadata": {},
   "outputs": [],
   "source": [
    "import sys\n",
    "\n",
    "# append the path of the\n",
    "# parent directory\n",
    "sys.path.append('..')\n",
    "sys.path.append('../src/')\n",
    "sys.path.append('../src/models/bat_call_detector/batdetect2/')\n",
    "\n",
    "import src.batdt2_pipeline as batdetect2_pipeline\n",
    "import src.file_dealer as file_dealer\n",
    "from bat_detect.detector import models\n",
    "from cfg import get_config\n",
    "from pipeline import pipeline\n",
    "from utils.utils import gen_empty_df, convert_df_ravenpro\n",
    "from bat_detect.utils import wavfile\n",
    "import bat_detect.utils.detector_utils as du\n",
    "import bat_detect.detector.compute_features as feats\n",
    "import bat_detect.detector.post_process as pp"
   ]
  },
  {
   "cell_type": "markdown",
   "metadata": {},
   "source": [
    "## Function Definitions (most important functions are in `src/`)\n",
    "### Below are the functions used for plotting and visualization"
   ]
  },
  {
   "cell_type": "code",
   "execution_count": 6,
   "metadata": {},
   "outputs": [],
   "source": [
    "def plot_audio_seg(audio_features, spec_features):\n",
    "    audio_seg = audio_features['audio_seg']\n",
    "    fs = audio_features['sample_rate']\n",
    "    start = audio_features['start']\n",
    "    duration = audio_features['duration']\n",
    "\n",
    "    vmax = spec_features['vmax']\n",
    "    vmin = spec_features['vmin']\n",
    "    cmap = spec_features['cmap']\n",
    "    nfft = spec_features['NFFT']\n",
    "\n",
    "    plt.figure(figsize=(15, 5))\n",
    "    plt.rcParams.update({'font.size': 24})\n",
    "    plt.title(spec_features['plot_title'], fontsize=24)\n",
    "    plt.specgram(audio_seg, NFFT=nfft, cmap=cmap, vmin=vmin, vmax=vmax)\n",
    "    plt.yticks(ticks=np.linspace(0, 1, 6), labels=np.linspace(0, fs/2000, 6).astype('int'))\n",
    "    plot_xtype = 'float'\n",
    "    if (duration > 60):\n",
    "        plot_xtype = 'int'\n",
    "    plt.xticks(ticks=np.linspace(0, duration*(fs/2), 11), \n",
    "               labels=np.round(np.linspace(start, start+duration, 11, dtype=plot_xtype), 2), rotation=30)\n",
    "    plt.ylabel(\"Frequency (kHz)\")\n",
    "    plt.xlabel(\"Time (s)\")\n",
    "    plt.show()\n",
    "\n",
    "\n",
    "def plot_dets_over_audio(audio_features, spec_features, plot_dets):\n",
    "    audio_seg = audio_features['audio_seg']\n",
    "    fs = audio_features['sample_rate']\n",
    "    start = audio_features['start']\n",
    "    duration = audio_features['duration']\n",
    "\n",
    "    vmax = spec_features['vmax']\n",
    "    vmin = spec_features['vmin']\n",
    "    cmap = spec_features['cmap']\n",
    "    nfft = spec_features['NFFT']\n",
    "\n",
    "    plt.figure(figsize=(15, 5))\n",
    "    plt.rcParams.update({'font.size': 24})\n",
    "    plt.title(spec_features['plot_title'], fontsize=24)\n",
    "    plt.specgram(audio_seg, NFFT=nfft, cmap=cmap, vmin=vmin, vmax=vmax)\n",
    "\n",
    "    ax = plt.gca()\n",
    "    for i, row in plot_dets.iterrows():\n",
    "        rect = patches.Rectangle(((row['start_time'] - start)*(fs/2), row['low_freq']/(fs/2)), \n",
    "                        (row['end_time'] - row['start_time'])*(fs/2), (row['high_freq'] - row['low_freq'])/(fs/2), \n",
    "                        linewidth=1, edgecolor='yellow', facecolor='none', alpha=0.8)\n",
    "        ax.add_patch(rect)\n",
    "\n",
    "    plt.yticks(ticks=np.linspace(0, 1, 6), labels=np.linspace(0, fs/2000, 6).astype('int'))\n",
    "    plt.ylabel(\"Frequency (kHz)\")\n",
    "    plot_xtype = 'float'\n",
    "    if (duration > 60):\n",
    "        plot_xtype = 'int'\n",
    "    plt.xticks(ticks=np.linspace(0, duration*(fs/2), 11), \n",
    "               labels=np.round(np.linspace(start, start+duration, 11, dtype=plot_xtype), 2), rotation=30)\n",
    "    plt.xlabel(\"Time (s)\")\n",
    "    plt.twinx(ax=ax)\n",
    "    plt.yticks(ticks=np.linspace(0, 1, 6), labels=np.linspace(0, fs/2000, 6).astype('int'))\n",
    "    plt.ylabel(\"Frequency (kHz)\")\n",
    "\n",
    "    plt.show()"
   ]
  },
  {
   "cell_type": "code",
   "execution_count": 7,
   "metadata": {},
   "outputs": [],
   "source": [
    "def load_audio_file(audio_file, time_exp_fact, target_samp_rate, scale=False, max_duration=False):\n",
    "    with warnings.catch_warnings():\n",
    "        warnings.filterwarnings('ignore', category=wavfile.WavFileWarning)\n",
    "        #sampling_rate, audio_raw = wavfile.read(audio_file)\n",
    "        audio_raw, sampling_rate = librosa.load(audio_file, sr=None)\n",
    "\n",
    "    if len(audio_raw.shape) > 1:\n",
    "        raise Exception('Currently does not handle stereo files')\n",
    "    sampling_rate = sampling_rate * time_exp_fact\n",
    "\n",
    "    # resample - need to do this after correcting for time expansion\n",
    "    sampling_rate_old = sampling_rate\n",
    "    sampling_rate = target_samp_rate\n",
    "    audio_raw = librosa.resample(audio_raw, orig_sr=sampling_rate_old, target_sr=sampling_rate, res_type='polyphase')\n",
    "\n",
    "    # clipping maximum duration\n",
    "    if max_duration is not False:\n",
    "        max_duration = np.minimum(int(sampling_rate*max_duration), audio_raw.shape[0])\n",
    "        audio_raw = audio_raw[:max_duration]\n",
    "        \n",
    "    # convert to float32 and scale\n",
    "    audio_raw = audio_raw.astype(np.float32)\n",
    "    if scale:\n",
    "        audio_raw = audio_raw - audio_raw.mean()\n",
    "        audio_raw = audio_raw / (np.abs(audio_raw).max() + 10e-6)\n",
    "\n",
    "    return sampling_rate, audio_raw"
   ]
  },
  {
   "cell_type": "code",
   "execution_count": 8,
   "metadata": {},
   "outputs": [],
   "source": [
    "def convert_raventxtdf_to_bd2df(raventxt_df):\n",
    "    bd2_human_df = raventxt_df[::2].copy()\n",
    "    bd2_human_df = bd2_human_df.drop(columns=['Selection', 'View', 'Channel'])\n",
    "    bd2_human_df.rename(columns={'Begin Time (s)':'start_time',\n",
    "                                'End Time (s)':'end_time',\n",
    "                                'Low Freq (Hz)':'low_freq',\n",
    "                                'High Freq (Hz)':'high_freq'}, inplace=True)\n",
    "    bd2_human_df.sort_values('start_time', inplace=True)\n",
    "    \n",
    "    return bd2_human_df\n",
    "\n",
    "def return_confusion_matrix_from_comparing_two_detectors(human_df, machine_df):\n",
    "    false_positives = 0 ## machine made detection that human did not make\n",
    "    true_positives = 0  ## machine made detection that human made\n",
    "    true_negatives = 0  ## machine did not make detection that human also did not make\n",
    "    false_negatives = 0 ## machine did not make detection that human made\n",
    "    human_ind = 0\n",
    "    machine_ind = 0\n",
    "\n",
    "    while (human_ind < len(human_df))&(machine_ind < len(machine_df)):\n",
    "        # print(human_ind, machine_ind)\n",
    "        human_det = human_df.iloc[human_ind]\n",
    "\n",
    "        machine_det = machine_df.iloc[machine_ind]\n",
    "\n",
    "        machine_det_start_in_human_det_bounds = ((machine_det['start_time']>=human_det['start_time'])&(machine_det['start_time']<=human_det['end_time']))\n",
    "        machine_det_end_in_human_det_bounds = ((machine_det['end_time']>=human_det['start_time'])&(machine_det['end_time']<=human_det['end_time']))\n",
    "        human_det_start_in_machine_det_bounds = ((human_det['start_time']>=machine_det['start_time'])&(human_det['start_time']<=machine_det['end_time']))\n",
    "        human_det_end_in_machine_det_bounds = ((human_det['end_time']>=machine_det['start_time'])&(human_det['end_time']<=machine_det['end_time']))\n",
    "\n",
    "        machine_det_in_human_bounds = machine_det_start_in_human_det_bounds|machine_det_end_in_human_det_bounds\n",
    "        human_det_in_machine_bounds = human_det_start_in_machine_det_bounds|human_det_end_in_machine_det_bounds\n",
    "\n",
    "        # if human_ind>=295:\n",
    "        #     print('bug')\n",
    "        #     print(human_det['start_time'], human_det['end_time'])\n",
    "        #     print(machine_det['start_time'], machine_det['end_time'])\n",
    "        if (machine_det_in_human_bounds|human_det_in_machine_bounds):\n",
    "            true_positives += 1\n",
    "            machine_ind+=1\n",
    "            human_ind+=1\n",
    "        else:\n",
    "            if (machine_det['end_time']<human_det['start_time']):\n",
    "                false_positives += 1\n",
    "                machine_ind+=1\n",
    "            elif (machine_det['start_time']>human_det['end_time']):\n",
    "                false_negatives += 1\n",
    "                human_ind+=1\n",
    "            else:\n",
    "                true_negatives += 1\n",
    "\n",
    "    if (machine_ind<len(machine_df)):\n",
    "        false_positives += (len(machine_df) - (machine_ind))\n",
    "    if (human_ind<len(human_df)):\n",
    "        false_negatives += (len(human_df) - (human_ind))\n",
    "\n",
    "    assert((true_positives+false_negatives)==len(human_df))\n",
    "    assert((false_positives+true_positives)==len(machine_df))\n",
    "\n",
    "    return {'true_positives':true_positives, 'false_positives':false_positives, 'false_negatives':false_negatives, 'true_negatives':true_negatives}"
   ]
  },
  {
   "cell_type": "code",
   "execution_count": 9,
   "metadata": {},
   "outputs": [],
   "source": [
    "def run_detector_on_audio_data(model, args, params, audio_full, plot_file, sampling_rate):\n",
    "    # store temporary results here\n",
    "    predictions = []\n",
    "    spec_feats  = []\n",
    "    cnn_feats   = []\n",
    "    spec_slices = []\n",
    "\n",
    "    # get time expansion  factor\n",
    "    time_exp = args['time_expansion_factor']\n",
    "\n",
    "    params['detection_threshold'] = args['detection_threshold']\n",
    "    top_n=5\n",
    "    # clipping maximum duration\n",
    "    duration_full = audio_full.shape[0] / float(sampling_rate)\n",
    "\n",
    "    return_np_spec = args['spec_features'] or args['spec_slices']\n",
    "\n",
    "    # loop through larger file and split into chunks\n",
    "    # TODO fix so that it overlaps correctly and takes care of duplicate detections at borders\n",
    "    num_chunks = int(np.ceil(duration_full/args['chunk_size']))\n",
    "    for chunk_id in tqdm(range(num_chunks)):\n",
    "        # chunk\n",
    "        chunk_time   = args['chunk_size']*chunk_id\n",
    "        chunk_length = int(sampling_rate*args['chunk_size'])\n",
    "        start_sample = chunk_id*chunk_length\n",
    "        end_sample   = np.minimum((chunk_id+1)*chunk_length, audio_full.shape[0])\n",
    "        audio = audio_full[start_sample:end_sample]\n",
    "\n",
    "        # load audio file and compute spectrogram\n",
    "        duration, spec, spec_np = du.compute_spectrogram(audio, sampling_rate, params, return_np_spec)\n",
    "\n",
    "        # evaluate model\n",
    "        with torch.no_grad():\n",
    "            outputs = model(spec, return_feats=args['cnn_features'])\n",
    "\n",
    "        # run non-max suppression\n",
    "        pred_nms, features = pp.run_nms(outputs, params, np.array([float(sampling_rate)]))\n",
    "        pred_nms = pred_nms[0]\n",
    "        pred_nms['start_times'] += chunk_time\n",
    "        pred_nms['end_times'] += chunk_time\n",
    "\n",
    "        # if we have a background class\n",
    "        if pred_nms['class_probs'].shape[0] > len(params['class_names']):\n",
    "            pred_nms['class_probs'] = pred_nms['class_probs'][:-1, :]\n",
    "\n",
    "        predictions.append(pred_nms)\n",
    "\n",
    "        # extract features - if there are any calls detected\n",
    "        if (pred_nms['det_probs'].shape[0] > 0):\n",
    "            if args['spec_features']:\n",
    "                spec_feats.append(feats.get_feats(spec_np, pred_nms, params))\n",
    "\n",
    "            if args['cnn_features']:\n",
    "                cnn_feats.append(features[0])\n",
    "\n",
    "            if args['spec_slices']:\n",
    "                spec_slices.extend(feats.extract_spec_slices(spec_np, pred_nms, params))\n",
    "\n",
    "    # convert the predictions into output dictionary\n",
    "    file_id = plot_file.name\n",
    "    predictions, spec_feats, cnn_feats, spec_slices =\\\n",
    "                du.merge_results(predictions, spec_feats, cnn_feats, spec_slices)\n",
    "    results = du.convert_results(file_id, time_exp, duration_full, params,\n",
    "                                predictions, spec_feats, cnn_feats, spec_slices)\n",
    "\n",
    "    # summarize results\n",
    "    if not args['quiet']:\n",
    "        num_detections = len(results['pred_dict']['annotation'])\n",
    "        print('{}'.format(num_detections) + ' call(s) detected above the threshold.')\n",
    "\n",
    "    # print results for top n classes\n",
    "    if not args['quiet'] and (num_detections > 0):\n",
    "        class_overall = pp.overall_class_pred(predictions['det_probs'], predictions['class_probs'])\n",
    "        print('species name'.ljust(30) + 'probablity present')\n",
    "        for cc in np.argsort(class_overall)[::-1][:top_n]:\n",
    "            print(params['class_names'][cc].ljust(30) + str(round(class_overall[cc], 3)))\n",
    "\n",
    "    annotations = results['pred_dict']['annotation']\n",
    "    out_df = gen_empty_df()\n",
    "    if annotations:\n",
    "        out_df = pd.DataFrame.from_records(annotations) \n",
    "\n",
    "    return out_df"
   ]
  },
  {
   "cell_type": "code",
   "execution_count": 10,
   "metadata": {},
   "outputs": [
    {
     "data": {
      "text/plain": [
       "Net2DFast(\n",
       "  (conv_dn_0): ConvBlockDownCoordF(\n",
       "    (conv): Conv2d(2, 32, kernel_size=(3, 3), stride=(1, 1), padding=(1, 1))\n",
       "    (conv_bn): BatchNorm2d(32, eps=1e-05, momentum=0.1, affine=True, track_running_stats=True)\n",
       "  )\n",
       "  (conv_dn_1): ConvBlockDownCoordF(\n",
       "    (conv): Conv2d(33, 64, kernel_size=(3, 3), stride=(1, 1), padding=(1, 1))\n",
       "    (conv_bn): BatchNorm2d(64, eps=1e-05, momentum=0.1, affine=True, track_running_stats=True)\n",
       "  )\n",
       "  (conv_dn_2): ConvBlockDownCoordF(\n",
       "    (conv): Conv2d(65, 128, kernel_size=(3, 3), stride=(1, 1), padding=(1, 1))\n",
       "    (conv_bn): BatchNorm2d(128, eps=1e-05, momentum=0.1, affine=True, track_running_stats=True)\n",
       "  )\n",
       "  (conv_dn_3): Conv2d(128, 256, kernel_size=(3, 3), stride=(1, 1), padding=(1, 1))\n",
       "  (conv_dn_3_bn): BatchNorm2d(256, eps=1e-05, momentum=0.1, affine=True, track_running_stats=True)\n",
       "  (conv_1d): Conv2d(256, 256, kernel_size=(16, 1), stride=(1, 1))\n",
       "  (conv_1d_bn): BatchNorm2d(256, eps=1e-05, momentum=0.1, affine=True, track_running_stats=True)\n",
       "  (att): SelfAttention(\n",
       "    (key_fun): Linear(in_features=256, out_features=256, bias=True)\n",
       "    (val_fun): Linear(in_features=256, out_features=256, bias=True)\n",
       "    (que_fun): Linear(in_features=256, out_features=256, bias=True)\n",
       "    (pro_fun): Linear(in_features=256, out_features=256, bias=True)\n",
       "  )\n",
       "  (conv_up_2): ConvBlockUpF(\n",
       "    (conv): Conv2d(257, 64, kernel_size=(3, 3), stride=(1, 1), padding=(1, 1))\n",
       "    (conv_bn): BatchNorm2d(64, eps=1e-05, momentum=0.1, affine=True, track_running_stats=True)\n",
       "  )\n",
       "  (conv_up_3): ConvBlockUpF(\n",
       "    (conv): Conv2d(65, 32, kernel_size=(3, 3), stride=(1, 1), padding=(1, 1))\n",
       "    (conv_bn): BatchNorm2d(32, eps=1e-05, momentum=0.1, affine=True, track_running_stats=True)\n",
       "  )\n",
       "  (conv_up_4): ConvBlockUpF(\n",
       "    (conv): Conv2d(33, 32, kernel_size=(3, 3), stride=(1, 1), padding=(1, 1))\n",
       "    (conv_bn): BatchNorm2d(32, eps=1e-05, momentum=0.1, affine=True, track_running_stats=True)\n",
       "  )\n",
       "  (conv_op): Conv2d(32, 32, kernel_size=(3, 3), stride=(1, 1), padding=(1, 1))\n",
       "  (conv_op_bn): BatchNorm2d(32, eps=1e-05, momentum=0.1, affine=True, track_running_stats=True)\n",
       "  (conv_size_op): Conv2d(32, 2, kernel_size=(1, 1), stride=(1, 1))\n",
       "  (conv_classes_op): Conv2d(32, 18, kernel_size=(1, 1), stride=(1, 1))\n",
       ")"
      ]
     },
     "execution_count": 10,
     "metadata": {},
     "output_type": "execute_result"
    }
   ],
   "source": [
    "device = torch.device('cuda' if torch.cuda.is_available() else 'cpu')\n",
    "net_params = torch.load('../src/models/bat_call_detector/batdetect2/models/Net2DFast_UK_same.pth.tar', map_location=device)\n",
    "params = net_params['params']\n",
    "params['device'] = device\n",
    "model = models.Net2DFast(params['num_filters'], num_classes=len(params['class_names']),\n",
    "                            emb_dim=params['emb_dim'], ip_height=params['ip_height'],\n",
    "                            resize_factor=params['resize_factor'])\n",
    "model.load_state_dict(net_params['state_dict'])\n",
    "model = model.to(params['device'])\n",
    "model.eval()"
   ]
  },
  {
   "cell_type": "code",
   "execution_count": 11,
   "metadata": {},
   "outputs": [],
   "source": [
    "# batdetect2_df = pd.read_csv(f'../../duty-cycle-investigation/data/raw/{site}/bd2__{site}_{wav_filename}.csv', sep=',')\n",
    "# batdetect2_df"
   ]
  },
  {
   "cell_type": "code",
   "execution_count": 12,
   "metadata": {},
   "outputs": [],
   "source": [
    "# # Below we filter our detections dataframe to only get the detections corresponding to the above audio file\n",
    "# audio_file = sf.SoundFile(plot_file)\n",
    "# fs = audio_file.samplerate\n",
    "# start = 210\n",
    "# duration = 120\n",
    "# audio_file.seek(int(fs*start))\n",
    "# audio_seg = audio_file.read(int(fs*duration))\n",
    "# lower_dB = -40\n",
    "# upper_dB = 0\n",
    "# vmin = 20*np.log10(np.max(audio_seg)) + lower_dB # hide anything below lower_dB dB\n",
    "# vmax = 20*np.log10(np.max(audio_seg)) + upper_dB # hide anything above upper_dB dB\n",
    "# audio_features = dict()\n",
    "# audio_features['file_path'] = Path(plot_file)\n",
    "# audio_features['audio_seg'] = audio_seg\n",
    "# audio_features['sample_rate'] = fs\n",
    "# audio_features['start'] = start\n",
    "# audio_features['duration'] = duration\n",
    "\n",
    "# spec_features = dict()\n",
    "# spec_features['NFFT'] = 1024 # When segments are short, NFFT should also be small to best see calls (must always be > 128)\n",
    "# spec_features['cmap'] = 'jet' # This colormap shows best contrast between noise and signals\n",
    "# spec_features['vmin'] = vmin\n",
    "# spec_features['vmax'] = vmax"
   ]
  },
  {
   "cell_type": "code",
   "execution_count": 13,
   "metadata": {},
   "outputs": [
    {
     "data": {
      "text/plain": [
       "['20220730_053000', '20220727_083000', '20220829_090000', '20220826_070000']"
      ]
     },
     "execution_count": 13,
     "metadata": {},
     "output_type": "execute_result"
    }
   ],
   "source": [
    "file_sites = {'20220730_053000':'Carp',\n",
    " '20220727_083000':'Foliage',\n",
    " '20220829_090000':'Foliage',\n",
    " '20220826_070000':'Central'}\n",
    "\n",
    "file_keys = list(file_sites.keys())\n",
    "file_keys"
   ]
  },
  {
   "cell_type": "code",
   "execution_count": 14,
   "metadata": {},
   "outputs": [],
   "source": [
    "save_dir = Path(f'bd2__det_thresh_sweep_20220730_053000')\n",
    "save_loc = Path(f\"bd2__0p1_chunksize3_20220730_053000.csv\")"
   ]
  },
  {
   "cell_type": "code",
   "execution_count": 15,
   "metadata": {},
   "outputs": [
    {
     "data": {
      "text/plain": [
       "PosixPath('bd2__det_thresh_sweep_20220730_053000/bd2__0p1_chunksize3_20220730_053000.csv')"
      ]
     },
     "execution_count": 15,
     "metadata": {},
     "output_type": "execute_result"
    }
   ],
   "source": [
    "save_dir / save_loc"
   ]
  },
  {
   "cell_type": "code",
   "execution_count": 39,
   "metadata": {},
   "outputs": [
    {
     "name": "stdout",
     "output_type": "stream",
     "text": [
      "20220730_053000 Carp\n",
      "0.1 0.1 threshold0p1\n",
      "saving to bd2__det_thresh_sweep_20220730_053000/bd2__threshold0p1_chunksize3_20220730_053000.csv\n",
      "{'true_positives': 665, 'false_positives': 296, 'false_negatives': 7, 'true_negatives': 0}\n",
      "0.12 0.12 threshold0p12\n",
      "saving to bd2__det_thresh_sweep_20220730_053000/bd2__threshold0p12_chunksize3_20220730_053000.csv\n",
      "{'true_positives': 661, 'false_positives': 219, 'false_negatives': 11, 'true_negatives': 0}\n",
      "0.14 0.14 threshold0p14\n",
      "saving to bd2__det_thresh_sweep_20220730_053000/bd2__threshold0p14_chunksize3_20220730_053000.csv\n",
      "{'true_positives': 659, 'false_positives': 179, 'false_negatives': 13, 'true_negatives': 0}\n",
      "0.16 0.16 threshold0p16\n",
      "saving to bd2__det_thresh_sweep_20220730_053000/bd2__threshold0p16_chunksize3_20220730_053000.csv\n",
      "{'true_positives': 655, 'false_positives': 153, 'false_negatives': 17, 'true_negatives': 0}\n",
      "0.18 0.18 threshold0p18\n",
      "saving to bd2__det_thresh_sweep_20220730_053000/bd2__threshold0p18_chunksize3_20220730_053000.csv\n",
      "{'true_positives': 647, 'false_positives': 134, 'false_negatives': 25, 'true_negatives': 0}\n",
      "0.2 0.2 threshold0p2\n",
      "saving to bd2__det_thresh_sweep_20220730_053000/bd2__threshold0p2_chunksize3_20220730_053000.csv\n",
      "{'true_positives': 644, 'false_positives': 118, 'false_negatives': 28, 'true_negatives': 0}\n",
      "0.22 0.22 threshold0p22\n",
      "saving to bd2__det_thresh_sweep_20220730_053000/bd2__threshold0p22_chunksize3_20220730_053000.csv\n",
      "{'true_positives': 634, 'false_positives': 98, 'false_negatives': 38, 'true_negatives': 0}\n",
      "0.24 0.24 threshold0p24\n",
      "saving to bd2__det_thresh_sweep_20220730_053000/bd2__threshold0p24_chunksize3_20220730_053000.csv\n",
      "{'true_positives': 625, 'false_positives': 89, 'false_negatives': 47, 'true_negatives': 0}\n",
      "0.26 0.26 threshold0p26\n",
      "saving to bd2__det_thresh_sweep_20220730_053000/bd2__threshold0p26_chunksize3_20220730_053000.csv\n",
      "{'true_positives': 615, 'false_positives': 81, 'false_negatives': 57, 'true_negatives': 0}\n",
      "0.28 0.28 threshold0p28\n",
      "saving to bd2__det_thresh_sweep_20220730_053000/bd2__threshold0p28_chunksize3_20220730_053000.csv\n",
      "{'true_positives': 607, 'false_positives': 73, 'false_negatives': 65, 'true_negatives': 0}\n",
      "0.3 0.3 threshold0p3\n",
      "saving to bd2__det_thresh_sweep_20220730_053000/bd2__threshold0p3_chunksize3_20220730_053000.csv\n",
      "{'true_positives': 594, 'false_positives': 64, 'false_negatives': 78, 'true_negatives': 0}\n",
      "0.32 0.32 threshold0p32\n",
      "saving to bd2__det_thresh_sweep_20220730_053000/bd2__threshold0p32_chunksize3_20220730_053000.csv\n",
      "{'true_positives': 577, 'false_positives': 59, 'false_negatives': 95, 'true_negatives': 0}\n",
      "0.34 0.34 threshold0p34\n",
      "saving to bd2__det_thresh_sweep_20220730_053000/bd2__threshold0p34_chunksize3_20220730_053000.csv\n",
      "{'true_positives': 565, 'false_positives': 52, 'false_negatives': 107, 'true_negatives': 0}\n",
      "0.36 0.36 threshold0p36\n",
      "saving to bd2__det_thresh_sweep_20220730_053000/bd2__threshold0p36_chunksize3_20220730_053000.csv\n",
      "{'true_positives': 553, 'false_positives': 45, 'false_negatives': 119, 'true_negatives': 0}\n",
      "0.38 0.38 threshold0p38\n",
      "saving to bd2__det_thresh_sweep_20220730_053000/bd2__threshold0p38_chunksize3_20220730_053000.csv\n",
      "{'true_positives': 531, 'false_positives': 33, 'false_negatives': 141, 'true_negatives': 0}\n",
      "0.4 0.4 threshold0p4\n",
      "saving to bd2__det_thresh_sweep_20220730_053000/bd2__threshold0p4_chunksize3_20220730_053000.csv\n",
      "{'true_positives': 508, 'false_positives': 29, 'false_negatives': 164, 'true_negatives': 0}\n",
      "0.42 0.42 threshold0p42\n",
      "saving to bd2__det_thresh_sweep_20220730_053000/bd2__threshold0p42_chunksize3_20220730_053000.csv\n",
      "{'true_positives': 483, 'false_positives': 20, 'false_negatives': 189, 'true_negatives': 0}\n",
      "0.44 0.44 threshold0p44\n",
      "saving to bd2__det_thresh_sweep_20220730_053000/bd2__threshold0p44_chunksize3_20220730_053000.csv\n"
     ]
    },
    {
     "name": "stderr",
     "output_type": "stream",
     "text": [
      "100%|██████████| 599/599 [07:59<00:00,  1.25it/s]\n"
     ]
    },
    {
     "name": "stdout",
     "output_type": "stream",
     "text": [
      "474 call(s) detected above the threshold.\n",
      "species name                  probablity present\n",
      "Pipistrellus nathusii         0.678\n",
      "Nyctalus leisleri             0.131\n",
      "Pipistrellus pipistrellus     0.038\n",
      "Eptesicus serotinus           0.035\n",
      "Myotis daubentonii            0.026\n",
      "{'true_positives': 456, 'false_positives': 18, 'false_negatives': 216, 'true_negatives': 0}\n",
      "0.46 0.46 threshold0p46\n",
      "saving to bd2__det_thresh_sweep_20220730_053000/bd2__threshold0p46_chunksize3_20220730_053000.csv\n"
     ]
    },
    {
     "name": "stderr",
     "output_type": "stream",
     "text": [
      "100%|██████████| 599/599 [08:36<00:00,  1.16it/s]\n"
     ]
    },
    {
     "name": "stdout",
     "output_type": "stream",
     "text": [
      "428 call(s) detected above the threshold.\n",
      "species name                  probablity present\n",
      "Pipistrellus nathusii         0.683\n",
      "Nyctalus leisleri             0.133\n",
      "Eptesicus serotinus           0.036\n",
      "Pipistrellus pipistrellus     0.033\n",
      "Myotis daubentonii            0.025\n",
      "{'true_positives': 415, 'false_positives': 13, 'false_negatives': 257, 'true_negatives': 0}\n",
      "0.48 0.48 threshold0p48\n",
      "saving to bd2__det_thresh_sweep_20220730_053000/bd2__threshold0p48_chunksize3_20220730_053000.csv\n"
     ]
    },
    {
     "name": "stderr",
     "output_type": "stream",
     "text": [
      "100%|██████████| 599/599 [07:45<00:00,  1.29it/s]\n"
     ]
    },
    {
     "name": "stdout",
     "output_type": "stream",
     "text": [
      "379 call(s) detected above the threshold.\n",
      "species name                  probablity present\n",
      "Pipistrellus nathusii         0.684\n",
      "Nyctalus leisleri             0.137\n",
      "Eptesicus serotinus           0.037\n",
      "Pipistrellus pipistrellus     0.03\n",
      "Nyctalus noctula              0.024\n",
      "{'true_positives': 373, 'false_positives': 6, 'false_negatives': 299, 'true_negatives': 0}\n",
      "0.5 0.5 threshold0p5\n",
      "saving to bd2__det_thresh_sweep_20220730_053000/bd2__threshold0p5_chunksize3_20220730_053000.csv\n",
      "{'true_positives': 335, 'false_positives': 2, 'false_negatives': 337, 'true_negatives': 0}\n",
      "0.52 0.52 threshold0p52\n",
      "saving to bd2__det_thresh_sweep_20220730_053000/bd2__threshold0p52_chunksize3_20220730_053000.csv\n"
     ]
    },
    {
     "name": "stderr",
     "output_type": "stream",
     "text": [
      "100%|██████████| 599/599 [06:35<00:00,  1.52it/s]\n"
     ]
    },
    {
     "name": "stdout",
     "output_type": "stream",
     "text": [
      "288 call(s) detected above the threshold.\n",
      "species name                  probablity present\n",
      "Pipistrellus nathusii         0.693\n",
      "Nyctalus leisleri             0.131\n",
      "Eptesicus serotinus           0.039\n",
      "Nyctalus noctula              0.027\n",
      "Rhinolophus ferrumequinum     0.024\n",
      "{'true_positives': 288, 'false_positives': 0, 'false_negatives': 384, 'true_negatives': 0}\n",
      "0.54 0.54 threshold0p54\n",
      "saving to bd2__det_thresh_sweep_20220730_053000/bd2__threshold0p54_chunksize3_20220730_053000.csv\n"
     ]
    },
    {
     "name": "stderr",
     "output_type": "stream",
     "text": [
      "100%|██████████| 599/599 [07:43<00:00,  1.29it/s]\n"
     ]
    },
    {
     "name": "stdout",
     "output_type": "stream",
     "text": [
      "238 call(s) detected above the threshold.\n",
      "species name                  probablity present\n",
      "Pipistrellus nathusii         0.695\n",
      "Nyctalus leisleri             0.137\n",
      "Eptesicus serotinus           0.037\n",
      "Nyctalus noctula              0.028\n",
      "Rhinolophus ferrumequinum     0.025\n",
      "{'true_positives': 238, 'false_positives': 0, 'false_negatives': 434, 'true_negatives': 0}\n",
      "0.56 0.56 threshold0p56\n",
      "saving to bd2__det_thresh_sweep_20220730_053000/bd2__threshold0p56_chunksize3_20220730_053000.csv\n"
     ]
    },
    {
     "name": "stderr",
     "output_type": "stream",
     "text": [
      "100%|██████████| 599/599 [07:06<00:00,  1.40it/s]\n"
     ]
    },
    {
     "name": "stdout",
     "output_type": "stream",
     "text": [
      "185 call(s) detected above the threshold.\n",
      "species name                  probablity present\n",
      "Pipistrellus nathusii         0.682\n",
      "Nyctalus leisleri             0.151\n",
      "Eptesicus serotinus           0.039\n",
      "Nyctalus noctula              0.031\n",
      "Rhinolophus ferrumequinum     0.025\n",
      "{'true_positives': 185, 'false_positives': 0, 'false_negatives': 487, 'true_negatives': 0}\n",
      "0.58 0.58 threshold0p58\n",
      "saving to bd2__det_thresh_sweep_20220730_053000/bd2__threshold0p58_chunksize3_20220730_053000.csv\n"
     ]
    },
    {
     "name": "stderr",
     "output_type": "stream",
     "text": [
      "100%|██████████| 599/599 [05:56<00:00,  1.68it/s]\n"
     ]
    },
    {
     "name": "stdout",
     "output_type": "stream",
     "text": [
      "129 call(s) detected above the threshold.\n",
      "species name                  probablity present\n",
      "Pipistrellus nathusii         0.672\n",
      "Nyctalus leisleri             0.165\n",
      "Eptesicus serotinus           0.041\n",
      "Nyctalus noctula              0.032\n",
      "Rhinolophus ferrumequinum     0.027\n",
      "{'true_positives': 129, 'false_positives': 0, 'false_negatives': 543, 'true_negatives': 0}\n",
      "0.6 0.6 threshold0p6\n",
      "saving to bd2__det_thresh_sweep_20220730_053000/bd2__threshold0p6_chunksize3_20220730_053000.csv\n",
      "{'true_positives': 94, 'false_positives': 0, 'false_negatives': 578, 'true_negatives': 0}\n",
      "0.62 0.62 threshold0p62\n",
      "saving to bd2__det_thresh_sweep_20220730_053000/bd2__threshold0p62_chunksize3_20220730_053000.csv\n"
     ]
    },
    {
     "name": "stderr",
     "output_type": "stream",
     "text": [
      "100%|██████████| 599/599 [05:56<00:00,  1.68it/s]\n"
     ]
    },
    {
     "name": "stdout",
     "output_type": "stream",
     "text": [
      "63 call(s) detected above the threshold.\n",
      "species name                  probablity present\n",
      "Pipistrellus nathusii         0.697\n",
      "Nyctalus leisleri             0.139\n",
      "Eptesicus serotinus           0.042\n",
      "Rhinolophus ferrumequinum     0.031\n",
      "Nyctalus noctula              0.026\n",
      "{'true_positives': 63, 'false_positives': 0, 'false_negatives': 609, 'true_negatives': 0}\n",
      "0.64 0.64 threshold0p64\n",
      "saving to bd2__det_thresh_sweep_20220730_053000/bd2__threshold0p64_chunksize3_20220730_053000.csv\n"
     ]
    },
    {
     "name": "stderr",
     "output_type": "stream",
     "text": [
      "100%|██████████| 599/599 [05:47<00:00,  1.72it/s]\n"
     ]
    },
    {
     "name": "stdout",
     "output_type": "stream",
     "text": [
      "31 call(s) detected above the threshold.\n",
      "species name                  probablity present\n",
      "Pipistrellus nathusii         0.709\n",
      "Nyctalus leisleri             0.141\n",
      "Eptesicus serotinus           0.037\n",
      "Rhinolophus ferrumequinum     0.03\n",
      "Pipistrellus pipistrellus     0.029\n",
      "{'true_positives': 31, 'false_positives': 0, 'false_negatives': 641, 'true_negatives': 0}\n",
      "0.66 0.66 threshold0p66\n",
      "saving to bd2__det_thresh_sweep_20220730_053000/bd2__threshold0p66_chunksize3_20220730_053000.csv\n"
     ]
    },
    {
     "name": "stderr",
     "output_type": "stream",
     "text": [
      "100%|██████████| 599/599 [05:47<00:00,  1.72it/s]\n"
     ]
    },
    {
     "name": "stdout",
     "output_type": "stream",
     "text": [
      "13 call(s) detected above the threshold.\n",
      "species name                  probablity present\n",
      "Pipistrellus nathusii         0.784\n",
      "Nyctalus leisleri             0.108\n",
      "Eptesicus serotinus           0.036\n",
      "Rhinolophus ferrumequinum     0.027\n",
      "Myotis brandtii               0.014\n",
      "{'true_positives': 13, 'false_positives': 0, 'false_negatives': 659, 'true_negatives': 0}\n",
      "0.68 0.68 threshold0p68\n",
      "saving to bd2__det_thresh_sweep_20220730_053000/bd2__threshold0p68_chunksize3_20220730_053000.csv\n"
     ]
    },
    {
     "name": "stderr",
     "output_type": "stream",
     "text": [
      "100%|██████████| 599/599 [05:46<00:00,  1.73it/s]\n"
     ]
    },
    {
     "name": "stdout",
     "output_type": "stream",
     "text": [
      "3 call(s) detected above the threshold.\n",
      "species name                  probablity present\n",
      "Pipistrellus nathusii         0.914\n",
      "Rhinolophus ferrumequinum     0.034\n",
      "Myotis brandtii               0.02\n",
      "Myotis daubentonii            0.017\n",
      "Pipistrellus pipistrellus     0.004\n",
      "{'true_positives': 3, 'false_positives': 0, 'false_negatives': 669, 'true_negatives': 0}\n",
      "20220727_083000 Foliage\n",
      "0.1 0.1 threshold0p1\n",
      "saving to bd2__det_thresh_sweep_20220727_083000/bd2__threshold0p1_chunksize3_20220727_083000.csv\n",
      "{'true_positives': 89, 'false_positives': 359, 'false_negatives': 34, 'true_negatives': 0}\n",
      "0.12 0.12 threshold0p12\n",
      "saving to bd2__det_thresh_sweep_20220727_083000/bd2__threshold0p12_chunksize3_20220727_083000.csv\n"
     ]
    },
    {
     "name": "stderr",
     "output_type": "stream",
     "text": [
      "100%|██████████| 599/599 [05:40<00:00,  1.76it/s]\n"
     ]
    },
    {
     "name": "stdout",
     "output_type": "stream",
     "text": [
      "307 call(s) detected above the threshold.\n",
      "species name                  probablity present\n",
      "Nyctalus leisleri             0.562\n",
      "Eptesicus serotinus           0.173\n",
      "Nyctalus noctula              0.124\n",
      "Pipistrellus nathusii         0.057\n",
      "Barbastellus barbastellus     0.02\n",
      "{'true_positives': 84, 'false_positives': 223, 'false_negatives': 39, 'true_negatives': 0}\n",
      "0.14 0.14 threshold0p14\n",
      "saving to bd2__det_thresh_sweep_20220727_083000/bd2__threshold0p14_chunksize3_20220727_083000.csv\n"
     ]
    },
    {
     "name": "stderr",
     "output_type": "stream",
     "text": [
      "100%|██████████| 599/599 [05:54<00:00,  1.69it/s]\n"
     ]
    },
    {
     "name": "stdout",
     "output_type": "stream",
     "text": [
      "232 call(s) detected above the threshold.\n",
      "species name                  probablity present\n",
      "Nyctalus leisleri             0.58\n",
      "Eptesicus serotinus           0.172\n",
      "Nyctalus noctula              0.121\n",
      "Pipistrellus nathusii         0.056\n",
      "Barbastellus barbastellus     0.018\n",
      "{'true_positives': 80, 'false_positives': 152, 'false_negatives': 43, 'true_negatives': 0}\n",
      "0.16 0.16 threshold0p16\n",
      "saving to bd2__det_thresh_sweep_20220727_083000/bd2__threshold0p16_chunksize3_20220727_083000.csv\n"
     ]
    },
    {
     "name": "stderr",
     "output_type": "stream",
     "text": [
      "100%|██████████| 599/599 [05:59<00:00,  1.67it/s]\n"
     ]
    },
    {
     "name": "stdout",
     "output_type": "stream",
     "text": [
      "186 call(s) detected above the threshold.\n",
      "species name                  probablity present\n",
      "Nyctalus leisleri             0.597\n",
      "Eptesicus serotinus           0.17\n",
      "Nyctalus noctula              0.119\n",
      "Pipistrellus nathusii         0.053\n",
      "Barbastellus barbastellus     0.016\n",
      "{'true_positives': 79, 'false_positives': 107, 'false_negatives': 44, 'true_negatives': 0}\n",
      "0.18 0.18 threshold0p18\n",
      "saving to bd2__det_thresh_sweep_20220727_083000/bd2__threshold0p18_chunksize3_20220727_083000.csv\n"
     ]
    },
    {
     "name": "stderr",
     "output_type": "stream",
     "text": [
      "100%|██████████| 599/599 [05:59<00:00,  1.67it/s]\n"
     ]
    },
    {
     "name": "stdout",
     "output_type": "stream",
     "text": [
      "153 call(s) detected above the threshold.\n",
      "species name                  probablity present\n",
      "Nyctalus leisleri             0.611\n",
      "Eptesicus serotinus           0.169\n",
      "Nyctalus noctula              0.117\n",
      "Pipistrellus nathusii         0.05\n",
      "Barbastellus barbastellus     0.014\n",
      "{'true_positives': 73, 'false_positives': 80, 'false_negatives': 50, 'true_negatives': 0}\n",
      "0.2 0.2 threshold0p2\n",
      "saving to bd2__det_thresh_sweep_20220727_083000/bd2__threshold0p2_chunksize3_20220727_083000.csv\n",
      "{'true_positives': 69, 'false_positives': 58, 'false_negatives': 54, 'true_negatives': 0}\n",
      "0.22 0.22 threshold0p22\n",
      "saving to bd2__det_thresh_sweep_20220727_083000/bd2__threshold0p22_chunksize3_20220727_083000.csv\n"
     ]
    },
    {
     "name": "stderr",
     "output_type": "stream",
     "text": [
      "100%|██████████| 599/599 [06:07<00:00,  1.63it/s]\n"
     ]
    },
    {
     "name": "stdout",
     "output_type": "stream",
     "text": [
      "113 call(s) detected above the threshold.\n",
      "species name                  probablity present\n",
      "Nyctalus leisleri             0.637\n",
      "Eptesicus serotinus           0.165\n",
      "Nyctalus noctula              0.116\n",
      "Pipistrellus nathusii         0.046\n",
      "Barbastellus barbastellus     0.01\n",
      "{'true_positives': 65, 'false_positives': 48, 'false_negatives': 58, 'true_negatives': 0}\n",
      "0.24 0.24 threshold0p24\n",
      "saving to bd2__det_thresh_sweep_20220727_083000/bd2__threshold0p24_chunksize3_20220727_083000.csv\n"
     ]
    },
    {
     "name": "stderr",
     "output_type": "stream",
     "text": [
      "100%|██████████| 599/599 [06:22<00:00,  1.57it/s]\n"
     ]
    },
    {
     "name": "stdout",
     "output_type": "stream",
     "text": [
      "101 call(s) detected above the threshold.\n",
      "species name                  probablity present\n",
      "Nyctalus leisleri             0.648\n",
      "Eptesicus serotinus           0.166\n",
      "Nyctalus noctula              0.114\n",
      "Pipistrellus nathusii         0.043\n",
      "Barbastellus barbastellus     0.009\n",
      "{'true_positives': 63, 'false_positives': 38, 'false_negatives': 60, 'true_negatives': 0}\n",
      "0.26 0.26 threshold0p26\n",
      "saving to bd2__det_thresh_sweep_20220727_083000/bd2__threshold0p26_chunksize3_20220727_083000.csv\n"
     ]
    },
    {
     "name": "stderr",
     "output_type": "stream",
     "text": [
      "100%|██████████| 599/599 [06:25<00:00,  1.55it/s]\n"
     ]
    },
    {
     "name": "stdout",
     "output_type": "stream",
     "text": [
      "89 call(s) detected above the threshold.\n",
      "species name                  probablity present\n",
      "Nyctalus leisleri             0.658\n",
      "Eptesicus serotinus           0.162\n",
      "Nyctalus noctula              0.111\n",
      "Pipistrellus nathusii         0.042\n",
      "Barbastellus barbastellus     0.008\n",
      "{'true_positives': 62, 'false_positives': 27, 'false_negatives': 61, 'true_negatives': 0}\n",
      "0.28 0.28 threshold0p28\n",
      "saving to bd2__det_thresh_sweep_20220727_083000/bd2__threshold0p28_chunksize3_20220727_083000.csv\n"
     ]
    },
    {
     "name": "stderr",
     "output_type": "stream",
     "text": [
      "100%|██████████| 599/599 [06:23<00:00,  1.56it/s]\n"
     ]
    },
    {
     "name": "stdout",
     "output_type": "stream",
     "text": [
      "83 call(s) detected above the threshold.\n",
      "species name                  probablity present\n",
      "Nyctalus leisleri             0.665\n",
      "Eptesicus serotinus           0.159\n",
      "Nyctalus noctula              0.107\n",
      "Pipistrellus nathusii         0.043\n",
      "Barbastellus barbastellus     0.009\n",
      "{'true_positives': 61, 'false_positives': 22, 'false_negatives': 62, 'true_negatives': 0}\n",
      "0.3 0.3 threshold0p3\n",
      "saving to bd2__det_thresh_sweep_20220727_083000/bd2__threshold0p3_chunksize3_20220727_083000.csv\n",
      "{'true_positives': 61, 'false_positives': 18, 'false_negatives': 62, 'true_negatives': 0}\n",
      "0.32 0.32 threshold0p32\n",
      "saving to bd2__det_thresh_sweep_20220727_083000/bd2__threshold0p32_chunksize3_20220727_083000.csv\n"
     ]
    },
    {
     "name": "stderr",
     "output_type": "stream",
     "text": [
      "100%|██████████| 599/599 [06:22<00:00,  1.56it/s]\n"
     ]
    },
    {
     "name": "stdout",
     "output_type": "stream",
     "text": [
      "72 call(s) detected above the threshold.\n",
      "species name                  probablity present\n",
      "Nyctalus leisleri             0.676\n",
      "Eptesicus serotinus           0.156\n",
      "Nyctalus noctula              0.104\n",
      "Pipistrellus nathusii         0.043\n",
      "Barbastellus barbastellus     0.008\n",
      "{'true_positives': 55, 'false_positives': 17, 'false_negatives': 68, 'true_negatives': 0}\n",
      "0.34 0.34 threshold0p34\n",
      "saving to bd2__det_thresh_sweep_20220727_083000/bd2__threshold0p34_chunksize3_20220727_083000.csv\n"
     ]
    },
    {
     "name": "stderr",
     "output_type": "stream",
     "text": [
      "100%|██████████| 599/599 [06:22<00:00,  1.57it/s]\n"
     ]
    },
    {
     "name": "stdout",
     "output_type": "stream",
     "text": [
      "65 call(s) detected above the threshold.\n",
      "species name                  probablity present\n",
      "Nyctalus leisleri             0.68\n",
      "Eptesicus serotinus           0.154\n",
      "Nyctalus noctula              0.101\n",
      "Pipistrellus nathusii         0.045\n",
      "Barbastellus barbastellus     0.009\n",
      "{'true_positives': 50, 'false_positives': 15, 'false_negatives': 73, 'true_negatives': 0}\n",
      "0.36 0.36 threshold0p36\n",
      "saving to bd2__det_thresh_sweep_20220727_083000/bd2__threshold0p36_chunksize3_20220727_083000.csv\n"
     ]
    },
    {
     "name": "stderr",
     "output_type": "stream",
     "text": [
      "100%|██████████| 599/599 [06:20<00:00,  1.57it/s]\n"
     ]
    },
    {
     "name": "stdout",
     "output_type": "stream",
     "text": [
      "59 call(s) detected above the threshold.\n",
      "species name                  probablity present\n",
      "Nyctalus leisleri             0.688\n",
      "Eptesicus serotinus           0.152\n",
      "Nyctalus noctula              0.099\n",
      "Pipistrellus nathusii         0.046\n",
      "Barbastellus barbastellus     0.004\n",
      "{'true_positives': 45, 'false_positives': 14, 'false_negatives': 78, 'true_negatives': 0}\n",
      "0.38 0.38 threshold0p38\n",
      "saving to bd2__det_thresh_sweep_20220727_083000/bd2__threshold0p38_chunksize3_20220727_083000.csv\n"
     ]
    },
    {
     "name": "stderr",
     "output_type": "stream",
     "text": [
      "100%|██████████| 599/599 [06:21<00:00,  1.57it/s]\n"
     ]
    },
    {
     "name": "stdout",
     "output_type": "stream",
     "text": [
      "55 call(s) detected above the threshold.\n",
      "species name                  probablity present\n",
      "Nyctalus leisleri             0.686\n",
      "Eptesicus serotinus           0.152\n",
      "Nyctalus noctula              0.099\n",
      "Pipistrellus nathusii         0.048\n",
      "Barbastellus barbastellus     0.005\n",
      "{'true_positives': 44, 'false_positives': 11, 'false_negatives': 79, 'true_negatives': 0}\n",
      "0.4 0.4 threshold0p4\n",
      "saving to bd2__det_thresh_sweep_20220727_083000/bd2__threshold0p4_chunksize3_20220727_083000.csv\n",
      "{'true_positives': 40, 'false_positives': 8, 'false_negatives': 83, 'true_negatives': 0}\n",
      "0.42 0.42 threshold0p42\n",
      "saving to bd2__det_thresh_sweep_20220727_083000/bd2__threshold0p42_chunksize3_20220727_083000.csv\n"
     ]
    },
    {
     "name": "stderr",
     "output_type": "stream",
     "text": [
      "100%|██████████| 599/599 [06:01<00:00,  1.66it/s]\n"
     ]
    },
    {
     "name": "stdout",
     "output_type": "stream",
     "text": [
      "41 call(s) detected above the threshold.\n",
      "species name                  probablity present\n",
      "Nyctalus leisleri             0.713\n",
      "Eptesicus serotinus           0.143\n",
      "Nyctalus noctula              0.093\n",
      "Pipistrellus nathusii         0.042\n",
      "Pipistrellus pipistrellus     0.003\n",
      "{'true_positives': 35, 'false_positives': 6, 'false_negatives': 88, 'true_negatives': 0}\n",
      "0.44 0.44 threshold0p44\n",
      "saving to bd2__det_thresh_sweep_20220727_083000/bd2__threshold0p44_chunksize3_20220727_083000.csv\n"
     ]
    },
    {
     "name": "stderr",
     "output_type": "stream",
     "text": [
      "100%|██████████| 599/599 [06:04<00:00,  1.64it/s]\n"
     ]
    },
    {
     "name": "stdout",
     "output_type": "stream",
     "text": [
      "36 call(s) detected above the threshold.\n",
      "species name                  probablity present\n",
      "Nyctalus leisleri             0.711\n",
      "Eptesicus serotinus           0.14\n",
      "Nyctalus noctula              0.095\n",
      "Pipistrellus nathusii         0.045\n",
      "Pipistrellus pipistrellus     0.003\n",
      "{'true_positives': 31, 'false_positives': 5, 'false_negatives': 92, 'true_negatives': 0}\n",
      "0.46 0.46 threshold0p46\n",
      "saving to bd2__det_thresh_sweep_20220727_083000/bd2__threshold0p46_chunksize3_20220727_083000.csv\n"
     ]
    },
    {
     "name": "stderr",
     "output_type": "stream",
     "text": [
      "100%|██████████| 599/599 [06:02<00:00,  1.65it/s]\n"
     ]
    },
    {
     "name": "stdout",
     "output_type": "stream",
     "text": [
      "33 call(s) detected above the threshold.\n",
      "species name                  probablity present\n",
      "Nyctalus leisleri             0.725\n",
      "Eptesicus serotinus           0.133\n",
      "Nyctalus noctula              0.086\n",
      "Pipistrellus nathusii         0.047\n",
      "Pipistrellus pipistrellus     0.003\n",
      "{'true_positives': 28, 'false_positives': 5, 'false_negatives': 95, 'true_negatives': 0}\n",
      "0.48 0.48 threshold0p48\n",
      "saving to bd2__det_thresh_sweep_20220727_083000/bd2__threshold0p48_chunksize3_20220727_083000.csv\n"
     ]
    },
    {
     "name": "stderr",
     "output_type": "stream",
     "text": [
      "100%|██████████| 599/599 [06:05<00:00,  1.64it/s]\n"
     ]
    },
    {
     "name": "stdout",
     "output_type": "stream",
     "text": [
      "25 call(s) detected above the threshold.\n",
      "species name                  probablity present\n",
      "Nyctalus leisleri             0.758\n",
      "Eptesicus serotinus           0.129\n",
      "Nyctalus noctula              0.072\n",
      "Pipistrellus nathusii         0.034\n",
      "Pipistrellus pipistrellus     0.003\n",
      "{'true_positives': 22, 'false_positives': 3, 'false_negatives': 101, 'true_negatives': 0}\n",
      "0.5 0.5 threshold0p5\n",
      "saving to bd2__det_thresh_sweep_20220727_083000/bd2__threshold0p5_chunksize3_20220727_083000.csv\n",
      "{'true_positives': 22, 'false_positives': 1, 'false_negatives': 101, 'true_negatives': 0}\n",
      "0.52 0.52 threshold0p52\n",
      "saving to bd2__det_thresh_sweep_20220727_083000/bd2__threshold0p52_chunksize3_20220727_083000.csv\n"
     ]
    },
    {
     "name": "stderr",
     "output_type": "stream",
     "text": [
      "100%|██████████| 599/599 [06:09<00:00,  1.62it/s]\n"
     ]
    },
    {
     "name": "stdout",
     "output_type": "stream",
     "text": [
      "19 call(s) detected above the threshold.\n",
      "species name                  probablity present\n",
      "Nyctalus leisleri             0.785\n",
      "Eptesicus serotinus           0.131\n",
      "Nyctalus noctula              0.071\n",
      "Pipistrellus nathusii         0.01\n",
      "Pipistrellus pipistrellus     0.002\n",
      "{'true_positives': 19, 'false_positives': 0, 'false_negatives': 104, 'true_negatives': 0}\n",
      "0.54 0.54 threshold0p54\n",
      "saving to bd2__det_thresh_sweep_20220727_083000/bd2__threshold0p54_chunksize3_20220727_083000.csv\n"
     ]
    },
    {
     "name": "stderr",
     "output_type": "stream",
     "text": [
      "100%|██████████| 599/599 [06:11<00:00,  1.61it/s]\n"
     ]
    },
    {
     "name": "stdout",
     "output_type": "stream",
     "text": [
      "15 call(s) detected above the threshold.\n",
      "species name                  probablity present\n",
      "Nyctalus leisleri             0.827\n",
      "Eptesicus serotinus           0.102\n",
      "Nyctalus noctula              0.058\n",
      "Pipistrellus nathusii         0.011\n",
      "Pipistrellus pipistrellus     0.002\n",
      "{'true_positives': 15, 'false_positives': 0, 'false_negatives': 108, 'true_negatives': 0}\n",
      "0.56 0.56 threshold0p56\n",
      "saving to bd2__det_thresh_sweep_20220727_083000/bd2__threshold0p56_chunksize3_20220727_083000.csv\n"
     ]
    },
    {
     "name": "stderr",
     "output_type": "stream",
     "text": [
      "100%|██████████| 599/599 [06:09<00:00,  1.62it/s]\n"
     ]
    },
    {
     "name": "stdout",
     "output_type": "stream",
     "text": [
      "13 call(s) detected above the threshold.\n",
      "species name                  probablity present\n",
      "Nyctalus leisleri             0.836\n",
      "Eptesicus serotinus           0.096\n",
      "Nyctalus noctula              0.056\n",
      "Pipistrellus nathusii         0.01\n",
      "Pipistrellus pipistrellus     0.002\n",
      "{'true_positives': 13, 'false_positives': 0, 'false_negatives': 110, 'true_negatives': 0}\n",
      "0.58 0.58 threshold0p58\n",
      "saving to bd2__det_thresh_sweep_20220727_083000/bd2__threshold0p58_chunksize3_20220727_083000.csv\n"
     ]
    },
    {
     "name": "stderr",
     "output_type": "stream",
     "text": [
      "100%|██████████| 599/599 [06:05<00:00,  1.64it/s]\n"
     ]
    },
    {
     "name": "stdout",
     "output_type": "stream",
     "text": [
      "10 call(s) detected above the threshold.\n",
      "species name                  probablity present\n",
      "Nyctalus leisleri             0.83\n",
      "Eptesicus serotinus           0.101\n",
      "Nyctalus noctula              0.056\n",
      "Pipistrellus nathusii         0.011\n",
      "Pipistrellus pipistrellus     0.002\n",
      "{'true_positives': 10, 'false_positives': 0, 'false_negatives': 113, 'true_negatives': 0}\n",
      "0.6 0.6 threshold0p6\n",
      "saving to bd2__det_thresh_sweep_20220727_083000/bd2__threshold0p6_chunksize3_20220727_083000.csv\n",
      "{'true_positives': 8, 'false_positives': 0, 'false_negatives': 115, 'true_negatives': 0}\n",
      "0.62 0.62 threshold0p62\n",
      "saving to bd2__det_thresh_sweep_20220727_083000/bd2__threshold0p62_chunksize3_20220727_083000.csv\n"
     ]
    },
    {
     "name": "stderr",
     "output_type": "stream",
     "text": [
      "100%|██████████| 599/599 [06:04<00:00,  1.64it/s]\n"
     ]
    },
    {
     "name": "stdout",
     "output_type": "stream",
     "text": [
      "6 call(s) detected above the threshold.\n",
      "species name                  probablity present\n",
      "Nyctalus leisleri             0.891\n",
      "Eptesicus serotinus           0.063\n",
      "Nyctalus noctula              0.032\n",
      "Pipistrellus nathusii         0.01\n",
      "Pipistrellus pipistrellus     0.002\n",
      "{'true_positives': 6, 'false_positives': 0, 'false_negatives': 117, 'true_negatives': 0}\n",
      "0.64 0.64 threshold0p64\n",
      "saving to bd2__det_thresh_sweep_20220727_083000/bd2__threshold0p64_chunksize3_20220727_083000.csv\n"
     ]
    },
    {
     "name": "stderr",
     "output_type": "stream",
     "text": [
      "100%|██████████| 599/599 [06:04<00:00,  1.64it/s]\n"
     ]
    },
    {
     "name": "stdout",
     "output_type": "stream",
     "text": [
      "4 call(s) detected above the threshold.\n",
      "species name                  probablity present\n",
      "Nyctalus leisleri             0.892\n",
      "Eptesicus serotinus           0.062\n",
      "Nyctalus noctula              0.034\n",
      "Pipistrellus nathusii         0.01\n",
      "Pipistrellus pipistrellus     0.003\n",
      "{'true_positives': 4, 'false_positives': 0, 'false_negatives': 119, 'true_negatives': 0}\n",
      "0.66 0.66 threshold0p66\n",
      "saving to bd2__det_thresh_sweep_20220727_083000/bd2__threshold0p66_chunksize3_20220727_083000.csv\n"
     ]
    },
    {
     "name": "stderr",
     "output_type": "stream",
     "text": [
      "100%|██████████| 599/599 [06:06<00:00,  1.63it/s]\n"
     ]
    },
    {
     "name": "stdout",
     "output_type": "stream",
     "text": [
      "2 call(s) detected above the threshold.\n",
      "species name                  probablity present\n",
      "Nyctalus leisleri             0.957\n",
      "Eptesicus serotinus           0.022\n",
      "Nyctalus noctula              0.009\n",
      "Pipistrellus nathusii         0.007\n",
      "Pipistrellus pipistrellus     0.004\n",
      "{'true_positives': 2, 'false_positives': 0, 'false_negatives': 121, 'true_negatives': 0}\n",
      "0.68 0.68 threshold0p68\n",
      "saving to bd2__det_thresh_sweep_20220727_083000/bd2__threshold0p68_chunksize3_20220727_083000.csv\n"
     ]
    },
    {
     "name": "stderr",
     "output_type": "stream",
     "text": [
      "100%|██████████| 599/599 [06:05<00:00,  1.64it/s]\n"
     ]
    },
    {
     "name": "stdout",
     "output_type": "stream",
     "text": [
      "1 call(s) detected above the threshold.\n",
      "species name                  probablity present\n",
      "Nyctalus leisleri             0.963\n",
      "Eptesicus serotinus           0.021\n",
      "Nyctalus noctula              0.01\n",
      "Pipistrellus nathusii         0.005\n",
      "Pipistrellus pipistrellus     0.002\n",
      "{'true_positives': 1, 'false_positives': 0, 'false_negatives': 122, 'true_negatives': 0}\n",
      "20220829_090000 Foliage\n",
      "0.1 0.1 threshold0p1\n",
      "saving to bd2__det_thresh_sweep_20220829_090000/bd2__threshold0p1_chunksize3_20220829_090000.csv\n",
      "{'true_positives': 109, 'false_positives': 139, 'false_negatives': 2, 'true_negatives': 0}\n",
      "0.12 0.12 threshold0p12\n",
      "saving to bd2__det_thresh_sweep_20220829_090000/bd2__threshold0p12_chunksize3_20220829_090000.csv\n"
     ]
    },
    {
     "name": "stderr",
     "output_type": "stream",
     "text": [
      "100%|██████████| 599/599 [06:02<00:00,  1.65it/s]\n"
     ]
    },
    {
     "name": "stdout",
     "output_type": "stream",
     "text": [
      "196 call(s) detected above the threshold.\n",
      "species name                  probablity present\n",
      "Pipistrellus pipistrellus     0.362\n",
      "Myotis brandtii               0.183\n",
      "Pipistrellus nathusii         0.182\n",
      "Myotis alcathoe               0.067\n",
      "Myotis daubentonii            0.05\n",
      "{'true_positives': 108, 'false_positives': 88, 'false_negatives': 3, 'true_negatives': 0}\n",
      "0.14 0.14 threshold0p14\n",
      "saving to bd2__det_thresh_sweep_20220829_090000/bd2__threshold0p14_chunksize3_20220829_090000.csv\n"
     ]
    },
    {
     "name": "stderr",
     "output_type": "stream",
     "text": [
      "100%|██████████| 599/599 [06:04<00:00,  1.64it/s]\n"
     ]
    },
    {
     "name": "stdout",
     "output_type": "stream",
     "text": [
      "166 call(s) detected above the threshold.\n",
      "species name                  probablity present\n",
      "Pipistrellus pipistrellus     0.368\n",
      "Myotis brandtii               0.187\n",
      "Pipistrellus nathusii         0.185\n",
      "Myotis alcathoe               0.068\n",
      "Myotis daubentonii            0.05\n",
      "{'true_positives': 108, 'false_positives': 58, 'false_negatives': 3, 'true_negatives': 0}\n",
      "0.16 0.16 threshold0p16\n",
      "saving to bd2__det_thresh_sweep_20220829_090000/bd2__threshold0p16_chunksize3_20220829_090000.csv\n"
     ]
    },
    {
     "name": "stderr",
     "output_type": "stream",
     "text": [
      "100%|██████████| 599/599 [06:05<00:00,  1.64it/s]\n"
     ]
    },
    {
     "name": "stdout",
     "output_type": "stream",
     "text": [
      "146 call(s) detected above the threshold.\n",
      "species name                  probablity present\n",
      "Pipistrellus pipistrellus     0.371\n",
      "Myotis brandtii               0.19\n",
      "Pipistrellus nathusii         0.187\n",
      "Myotis alcathoe               0.069\n",
      "Myotis daubentonii            0.051\n",
      "{'true_positives': 107, 'false_positives': 39, 'false_negatives': 4, 'true_negatives': 0}\n",
      "0.18 0.18 threshold0p18\n",
      "saving to bd2__det_thresh_sweep_20220829_090000/bd2__threshold0p18_chunksize3_20220829_090000.csv\n"
     ]
    },
    {
     "name": "stderr",
     "output_type": "stream",
     "text": [
      "100%|██████████| 599/599 [06:04<00:00,  1.64it/s]\n"
     ]
    },
    {
     "name": "stdout",
     "output_type": "stream",
     "text": [
      "140 call(s) detected above the threshold.\n",
      "species name                  probablity present\n",
      "Pipistrellus pipistrellus     0.371\n",
      "Myotis brandtii               0.191\n",
      "Pipistrellus nathusii         0.187\n",
      "Myotis alcathoe               0.069\n",
      "Myotis daubentonii            0.051\n",
      "{'true_positives': 106, 'false_positives': 34, 'false_negatives': 5, 'true_negatives': 0}\n",
      "0.2 0.2 threshold0p2\n",
      "saving to bd2__det_thresh_sweep_20220829_090000/bd2__threshold0p2_chunksize3_20220829_090000.csv\n",
      "{'true_positives': 106, 'false_positives': 31, 'false_negatives': 5, 'true_negatives': 0}\n",
      "0.22 0.22 threshold0p22\n",
      "saving to bd2__det_thresh_sweep_20220829_090000/bd2__threshold0p22_chunksize3_20220829_090000.csv\n"
     ]
    },
    {
     "name": "stderr",
     "output_type": "stream",
     "text": [
      "100%|██████████| 599/599 [06:30<00:00,  1.53it/s]\n"
     ]
    },
    {
     "name": "stdout",
     "output_type": "stream",
     "text": [
      "131 call(s) detected above the threshold.\n",
      "species name                  probablity present\n",
      "Pipistrellus pipistrellus     0.373\n",
      "Myotis brandtii               0.193\n",
      "Pipistrellus nathusii         0.188\n",
      "Myotis alcathoe               0.069\n",
      "Myotis daubentonii            0.051\n",
      "{'true_positives': 104, 'false_positives': 27, 'false_negatives': 7, 'true_negatives': 0}\n",
      "0.24 0.24 threshold0p24\n",
      "saving to bd2__det_thresh_sweep_20220829_090000/bd2__threshold0p24_chunksize3_20220829_090000.csv\n"
     ]
    },
    {
     "name": "stderr",
     "output_type": "stream",
     "text": [
      "100%|██████████| 599/599 [06:14<00:00,  1.60it/s]\n"
     ]
    },
    {
     "name": "stdout",
     "output_type": "stream",
     "text": [
      "122 call(s) detected above the threshold.\n",
      "species name                  probablity present\n",
      "Pipistrellus pipistrellus     0.371\n",
      "Myotis brandtii               0.195\n",
      "Pipistrellus nathusii         0.19\n",
      "Myotis alcathoe               0.069\n",
      "Myotis daubentonii            0.05\n",
      "{'true_positives': 102, 'false_positives': 20, 'false_negatives': 9, 'true_negatives': 0}\n",
      "0.26 0.26 threshold0p26\n",
      "saving to bd2__det_thresh_sweep_20220829_090000/bd2__threshold0p26_chunksize3_20220829_090000.csv\n"
     ]
    },
    {
     "name": "stderr",
     "output_type": "stream",
     "text": [
      "100%|██████████| 599/599 [06:13<00:00,  1.61it/s]\n"
     ]
    },
    {
     "name": "stdout",
     "output_type": "stream",
     "text": [
      "115 call(s) detected above the threshold.\n",
      "species name                  probablity present\n",
      "Pipistrellus pipistrellus     0.368\n",
      "Myotis brandtii               0.197\n",
      "Pipistrellus nathusii         0.193\n",
      "Myotis alcathoe               0.069\n",
      "Myotis daubentonii            0.05\n",
      "{'true_positives': 97, 'false_positives': 18, 'false_negatives': 14, 'true_negatives': 0}\n",
      "0.28 0.28 threshold0p28\n",
      "saving to bd2__det_thresh_sweep_20220829_090000/bd2__threshold0p28_chunksize3_20220829_090000.csv\n"
     ]
    },
    {
     "name": "stderr",
     "output_type": "stream",
     "text": [
      "100%|██████████| 599/599 [06:03<00:00,  1.65it/s]\n"
     ]
    },
    {
     "name": "stdout",
     "output_type": "stream",
     "text": [
      "113 call(s) detected above the threshold.\n",
      "species name                  probablity present\n",
      "Pipistrellus pipistrellus     0.37\n",
      "Myotis brandtii               0.196\n",
      "Pipistrellus nathusii         0.194\n",
      "Myotis alcathoe               0.069\n",
      "Myotis daubentonii            0.05\n",
      "{'true_positives': 95, 'false_positives': 18, 'false_negatives': 16, 'true_negatives': 0}\n",
      "0.3 0.3 threshold0p3\n",
      "saving to bd2__det_thresh_sweep_20220829_090000/bd2__threshold0p3_chunksize3_20220829_090000.csv\n",
      "{'true_positives': 94, 'false_positives': 17, 'false_negatives': 17, 'true_negatives': 0}\n",
      "0.32 0.32 threshold0p32\n",
      "saving to bd2__det_thresh_sweep_20220829_090000/bd2__threshold0p32_chunksize3_20220829_090000.csv\n"
     ]
    },
    {
     "name": "stderr",
     "output_type": "stream",
     "text": [
      "100%|██████████| 599/599 [06:04<00:00,  1.65it/s]\n"
     ]
    },
    {
     "name": "stdout",
     "output_type": "stream",
     "text": [
      "105 call(s) detected above the threshold.\n",
      "species name                  probablity present\n",
      "Pipistrellus pipistrellus     0.37\n",
      "Myotis brandtii               0.197\n",
      "Pipistrellus nathusii         0.197\n",
      "Myotis alcathoe               0.068\n",
      "Myotis daubentonii            0.049\n",
      "{'true_positives': 92, 'false_positives': 13, 'false_negatives': 19, 'true_negatives': 0}\n",
      "0.34 0.34 threshold0p34\n",
      "saving to bd2__det_thresh_sweep_20220829_090000/bd2__threshold0p34_chunksize3_20220829_090000.csv\n"
     ]
    },
    {
     "name": "stderr",
     "output_type": "stream",
     "text": [
      "100%|██████████| 599/599 [06:04<00:00,  1.64it/s]\n"
     ]
    },
    {
     "name": "stdout",
     "output_type": "stream",
     "text": [
      "96 call(s) detected above the threshold.\n",
      "species name                  probablity present\n",
      "Pipistrellus pipistrellus     0.367\n",
      "Myotis brandtii               0.204\n",
      "Pipistrellus nathusii         0.203\n",
      "Myotis alcathoe               0.061\n",
      "Myotis daubentonii            0.048\n",
      "{'true_positives': 87, 'false_positives': 9, 'false_negatives': 24, 'true_negatives': 0}\n",
      "0.36 0.36 threshold0p36\n",
      "saving to bd2__det_thresh_sweep_20220829_090000/bd2__threshold0p36_chunksize3_20220829_090000.csv\n"
     ]
    },
    {
     "name": "stderr",
     "output_type": "stream",
     "text": [
      "100%|██████████| 599/599 [06:05<00:00,  1.64it/s]\n"
     ]
    },
    {
     "name": "stdout",
     "output_type": "stream",
     "text": [
      "91 call(s) detected above the threshold.\n",
      "species name                  probablity present\n",
      "Pipistrellus pipistrellus     0.366\n",
      "Myotis brandtii               0.208\n",
      "Pipistrellus nathusii         0.201\n",
      "Myotis alcathoe               0.061\n",
      "Myotis daubentonii            0.047\n",
      "{'true_positives': 84, 'false_positives': 7, 'false_negatives': 27, 'true_negatives': 0}\n",
      "0.38 0.38 threshold0p38\n",
      "saving to bd2__det_thresh_sweep_20220829_090000/bd2__threshold0p38_chunksize3_20220829_090000.csv\n"
     ]
    },
    {
     "name": "stderr",
     "output_type": "stream",
     "text": [
      "100%|██████████| 599/599 [06:04<00:00,  1.64it/s]\n"
     ]
    },
    {
     "name": "stdout",
     "output_type": "stream",
     "text": [
      "85 call(s) detected above the threshold.\n",
      "species name                  probablity present\n",
      "Pipistrellus pipistrellus     0.37\n",
      "Myotis brandtii               0.206\n",
      "Pipistrellus nathusii         0.205\n",
      "Myotis alcathoe               0.061\n",
      "Myotis mystacinus             0.044\n",
      "{'true_positives': 79, 'false_positives': 6, 'false_negatives': 32, 'true_negatives': 0}\n",
      "0.4 0.4 threshold0p4\n",
      "saving to bd2__det_thresh_sweep_20220829_090000/bd2__threshold0p4_chunksize3_20220829_090000.csv\n",
      "{'true_positives': 69, 'false_positives': 5, 'false_negatives': 42, 'true_negatives': 0}\n",
      "0.42 0.42 threshold0p42\n",
      "saving to bd2__det_thresh_sweep_20220829_090000/bd2__threshold0p42_chunksize3_20220829_090000.csv\n"
     ]
    },
    {
     "name": "stderr",
     "output_type": "stream",
     "text": [
      "100%|██████████| 599/599 [06:02<00:00,  1.65it/s]\n"
     ]
    },
    {
     "name": "stdout",
     "output_type": "stream",
     "text": [
      "60 call(s) detected above the threshold.\n",
      "species name                  probablity present\n",
      "Pipistrellus pipistrellus     0.383\n",
      "Pipistrellus nathusii         0.215\n",
      "Myotis brandtii               0.211\n",
      "Myotis alcathoe               0.055\n",
      "Myotis mystacinus             0.046\n",
      "{'true_positives': 56, 'false_positives': 4, 'false_negatives': 55, 'true_negatives': 0}\n",
      "0.44 0.44 threshold0p44\n",
      "saving to bd2__det_thresh_sweep_20220829_090000/bd2__threshold0p44_chunksize3_20220829_090000.csv\n"
     ]
    },
    {
     "name": "stderr",
     "output_type": "stream",
     "text": [
      "100%|██████████| 599/599 [07:35<00:00,  1.31it/s]\n"
     ]
    },
    {
     "name": "stdout",
     "output_type": "stream",
     "text": [
      "54 call(s) detected above the threshold.\n",
      "species name                  probablity present\n",
      "Pipistrellus pipistrellus     0.391\n",
      "Pipistrellus nathusii         0.217\n",
      "Myotis brandtii               0.205\n",
      "Myotis alcathoe               0.057\n",
      "Myotis mystacinus             0.047\n",
      "{'true_positives': 52, 'false_positives': 2, 'false_negatives': 59, 'true_negatives': 0}\n",
      "0.46 0.46 threshold0p46\n",
      "saving to bd2__det_thresh_sweep_20220829_090000/bd2__threshold0p46_chunksize3_20220829_090000.csv\n"
     ]
    },
    {
     "name": "stderr",
     "output_type": "stream",
     "text": [
      "100%|██████████| 599/599 [07:56<00:00,  1.26it/s]\n"
     ]
    },
    {
     "name": "stdout",
     "output_type": "stream",
     "text": [
      "45 call(s) detected above the threshold.\n",
      "species name                  probablity present\n",
      "Pipistrellus pipistrellus     0.406\n",
      "Pipistrellus nathusii         0.237\n",
      "Myotis brandtii               0.187\n",
      "Myotis alcathoe               0.054\n",
      "Myotis mystacinus             0.044\n",
      "{'true_positives': 44, 'false_positives': 1, 'false_negatives': 67, 'true_negatives': 0}\n",
      "0.48 0.48 threshold0p48\n",
      "saving to bd2__det_thresh_sweep_20220829_090000/bd2__threshold0p48_chunksize3_20220829_090000.csv\n"
     ]
    },
    {
     "name": "stderr",
     "output_type": "stream",
     "text": [
      "100%|██████████| 599/599 [06:52<00:00,  1.45it/s]\n"
     ]
    },
    {
     "name": "stdout",
     "output_type": "stream",
     "text": [
      "39 call(s) detected above the threshold.\n",
      "species name                  probablity present\n",
      "Pipistrellus pipistrellus     0.45\n",
      "Pipistrellus nathusii         0.228\n",
      "Myotis brandtii               0.163\n",
      "Myotis alcathoe               0.056\n",
      "Myotis mystacinus             0.042\n",
      "{'true_positives': 38, 'false_positives': 1, 'false_negatives': 73, 'true_negatives': 0}\n",
      "0.5 0.5 threshold0p5\n",
      "saving to bd2__det_thresh_sweep_20220829_090000/bd2__threshold0p5_chunksize3_20220829_090000.csv\n",
      "{'true_positives': 32, 'false_positives': 0, 'false_negatives': 79, 'true_negatives': 0}\n",
      "0.52 0.52 threshold0p52\n",
      "saving to bd2__det_thresh_sweep_20220829_090000/bd2__threshold0p52_chunksize3_20220829_090000.csv\n"
     ]
    },
    {
     "name": "stderr",
     "output_type": "stream",
     "text": [
      "100%|██████████| 599/599 [06:08<00:00,  1.63it/s]\n"
     ]
    },
    {
     "name": "stdout",
     "output_type": "stream",
     "text": [
      "25 call(s) detected above the threshold.\n",
      "species name                  probablity present\n",
      "Pipistrellus pipistrellus     0.429\n",
      "Pipistrellus nathusii         0.287\n",
      "Myotis brandtii               0.155\n",
      "Myotis alcathoe               0.038\n",
      "Myotis mystacinus             0.033\n",
      "{'true_positives': 25, 'false_positives': 0, 'false_negatives': 86, 'true_negatives': 0}\n",
      "0.54 0.54 threshold0p54\n",
      "saving to bd2__det_thresh_sweep_20220829_090000/bd2__threshold0p54_chunksize3_20220829_090000.csv\n"
     ]
    },
    {
     "name": "stderr",
     "output_type": "stream",
     "text": [
      "100%|██████████| 599/599 [05:47<00:00,  1.72it/s]\n"
     ]
    },
    {
     "name": "stdout",
     "output_type": "stream",
     "text": [
      "16 call(s) detected above the threshold.\n",
      "species name                  probablity present\n",
      "Pipistrellus pipistrellus     0.404\n",
      "Pipistrellus nathusii         0.359\n",
      "Myotis brandtii               0.114\n",
      "Myotis alcathoe               0.04\n",
      "Myotis mystacinus             0.029\n",
      "{'true_positives': 16, 'false_positives': 0, 'false_negatives': 95, 'true_negatives': 0}\n",
      "0.56 0.56 threshold0p56\n",
      "saving to bd2__det_thresh_sweep_20220829_090000/bd2__threshold0p56_chunksize3_20220829_090000.csv\n"
     ]
    },
    {
     "name": "stderr",
     "output_type": "stream",
     "text": [
      "100%|██████████| 599/599 [05:50<00:00,  1.71it/s]\n"
     ]
    },
    {
     "name": "stdout",
     "output_type": "stream",
     "text": [
      "9 call(s) detected above the threshold.\n",
      "species name                  probablity present\n",
      "Pipistrellus pipistrellus     0.492\n",
      "Pipistrellus nathusii         0.346\n",
      "Myotis brandtii               0.063\n",
      "Myotis alcathoe               0.034\n",
      "Myotis mystacinus             0.023\n",
      "{'true_positives': 9, 'false_positives': 0, 'false_negatives': 102, 'true_negatives': 0}\n",
      "0.58 0.58 threshold0p58\n",
      "saving to bd2__det_thresh_sweep_20220829_090000/bd2__threshold0p58_chunksize3_20220829_090000.csv\n"
     ]
    },
    {
     "name": "stderr",
     "output_type": "stream",
     "text": [
      "100%|██████████| 599/599 [05:47<00:00,  1.73it/s]\n"
     ]
    },
    {
     "name": "stdout",
     "output_type": "stream",
     "text": [
      "7 call(s) detected above the threshold.\n",
      "species name                  probablity present\n",
      "Pipistrellus nathusii         0.422\n",
      "Pipistrellus pipistrellus     0.389\n",
      "Myotis brandtii               0.078\n",
      "Myotis alcathoe               0.039\n",
      "Myotis mystacinus             0.028\n",
      "{'true_positives': 7, 'false_positives': 0, 'false_negatives': 104, 'true_negatives': 0}\n",
      "0.6 0.6 threshold0p6\n",
      "saving to bd2__det_thresh_sweep_20220829_090000/bd2__threshold0p6_chunksize3_20220829_090000.csv\n",
      "{'true_positives': 6, 'false_positives': 0, 'false_negatives': 105, 'true_negatives': 0}\n",
      "0.62 0.62 threshold0p62\n",
      "saving to bd2__det_thresh_sweep_20220829_090000/bd2__threshold0p62_chunksize3_20220829_090000.csv\n"
     ]
    },
    {
     "name": "stderr",
     "output_type": "stream",
     "text": [
      "100%|██████████| 599/599 [05:46<00:00,  1.73it/s]\n"
     ]
    },
    {
     "name": "stdout",
     "output_type": "stream",
     "text": [
      "4 call(s) detected above the threshold.\n",
      "species name                  probablity present\n",
      "Pipistrellus pipistrellus     0.638\n",
      "Myotis brandtii               0.122\n",
      "Pipistrellus nathusii         0.08\n",
      "Myotis alcathoe               0.064\n",
      "Myotis mystacinus             0.045\n",
      "{'true_positives': 4, 'false_positives': 0, 'false_negatives': 107, 'true_negatives': 0}\n",
      "0.64 0.64 threshold0p64\n",
      "saving to bd2__det_thresh_sweep_20220829_090000/bd2__threshold0p64_chunksize3_20220829_090000.csv\n"
     ]
    },
    {
     "name": "stderr",
     "output_type": "stream",
     "text": [
      "100%|██████████| 599/599 [05:55<00:00,  1.68it/s]\n"
     ]
    },
    {
     "name": "stdout",
     "output_type": "stream",
     "text": [
      "2 call(s) detected above the threshold.\n",
      "species name                  probablity present\n",
      "Pipistrellus pipistrellus     0.829\n",
      "Pipistrellus nathusii         0.109\n",
      "Myotis alcathoe               0.02\n",
      "Pipistrellus pygmaeus         0.018\n",
      "Myotis daubentonii            0.008\n",
      "{'true_positives': 2, 'false_positives': 0, 'false_negatives': 109, 'true_negatives': 0}\n",
      "0.66 0.66 threshold0p66\n",
      "saving to bd2__det_thresh_sweep_20220829_090000/bd2__threshold0p66_chunksize3_20220829_090000.csv\n"
     ]
    },
    {
     "name": "stderr",
     "output_type": "stream",
     "text": [
      "100%|██████████| 599/599 [05:49<00:00,  1.72it/s]\n"
     ]
    },
    {
     "name": "stdout",
     "output_type": "stream",
     "text": [
      "1 call(s) detected above the threshold.\n",
      "species name                  probablity present\n",
      "Pipistrellus pipistrellus     0.803\n",
      "Pipistrellus nathusii         0.122\n",
      "Myotis alcathoe               0.027\n",
      "Pipistrellus pygmaeus         0.018\n",
      "Myotis daubentonii            0.01\n",
      "{'true_positives': 1, 'false_positives': 0, 'false_negatives': 110, 'true_negatives': 0}\n",
      "0.68 0.68 threshold0p68\n",
      "saving to bd2__det_thresh_sweep_20220829_090000/bd2__threshold0p68_chunksize3_20220829_090000.csv\n"
     ]
    },
    {
     "name": "stderr",
     "output_type": "stream",
     "text": [
      "100%|██████████| 599/599 [05:47<00:00,  1.73it/s]\n"
     ]
    },
    {
     "name": "stdout",
     "output_type": "stream",
     "text": [
      "0 call(s) detected above the threshold.\n",
      "{'true_positives': 0, 'false_positives': 0, 'false_negatives': 111, 'true_negatives': 0}\n",
      "20220826_070000 Central\n",
      "0.1 0.1 threshold0p1\n",
      "saving to bd2__det_thresh_sweep_20220826_070000/bd2__threshold0p1_chunksize3_20220826_070000.csv\n",
      "{'true_positives': 2641, 'false_positives': 2359, 'false_negatives': 16, 'true_negatives': 0}\n",
      "0.12 0.12 threshold0p12\n",
      "saving to bd2__det_thresh_sweep_20220826_070000/bd2__threshold0p12_chunksize3_20220826_070000.csv\n"
     ]
    },
    {
     "name": "stderr",
     "output_type": "stream",
     "text": [
      "100%|██████████| 599/599 [05:42<00:00,  1.75it/s]\n"
     ]
    },
    {
     "name": "stdout",
     "output_type": "stream",
     "text": [
      "4650 call(s) detected above the threshold.\n",
      "species name                  probablity present\n",
      "Pipistrellus nathusii         0.394\n",
      "Pipistrellus pipistrellus     0.285\n",
      "Nyctalus leisleri             0.143\n",
      "Eptesicus serotinus           0.044\n",
      "Nyctalus noctula              0.028\n",
      "{'true_positives': 2637, 'false_positives': 2013, 'false_negatives': 20, 'true_negatives': 0}\n",
      "0.14 0.14 threshold0p14\n",
      "saving to bd2__det_thresh_sweep_20220826_070000/bd2__threshold0p14_chunksize3_20220826_070000.csv\n"
     ]
    },
    {
     "name": "stderr",
     "output_type": "stream",
     "text": [
      "100%|██████████| 599/599 [05:43<00:00,  1.74it/s]\n"
     ]
    },
    {
     "name": "stdout",
     "output_type": "stream",
     "text": [
      "4428 call(s) detected above the threshold.\n",
      "species name                  probablity present\n",
      "Pipistrellus nathusii         0.395\n",
      "Pipistrellus pipistrellus     0.285\n",
      "Nyctalus leisleri             0.143\n",
      "Eptesicus serotinus           0.044\n",
      "Nyctalus noctula              0.027\n",
      "{'true_positives': 2628, 'false_positives': 1800, 'false_negatives': 29, 'true_negatives': 0}\n",
      "0.16 0.16 threshold0p16\n",
      "saving to bd2__det_thresh_sweep_20220826_070000/bd2__threshold0p16_chunksize3_20220826_070000.csv\n"
     ]
    },
    {
     "name": "stderr",
     "output_type": "stream",
     "text": [
      "100%|██████████| 599/599 [05:51<00:00,  1.70it/s]\n"
     ]
    },
    {
     "name": "stdout",
     "output_type": "stream",
     "text": [
      "4238 call(s) detected above the threshold.\n",
      "species name                  probablity present\n",
      "Pipistrellus nathusii         0.397\n",
      "Pipistrellus pipistrellus     0.285\n",
      "Nyctalus leisleri             0.143\n",
      "Eptesicus serotinus           0.044\n",
      "Nyctalus noctula              0.027\n",
      "{'true_positives': 2617, 'false_positives': 1621, 'false_negatives': 40, 'true_negatives': 0}\n",
      "0.18 0.18 threshold0p18\n",
      "saving to bd2__det_thresh_sweep_20220826_070000/bd2__threshold0p18_chunksize3_20220826_070000.csv\n"
     ]
    },
    {
     "name": "stderr",
     "output_type": "stream",
     "text": [
      "100%|██████████| 599/599 [06:02<00:00,  1.65it/s]\n"
     ]
    },
    {
     "name": "stdout",
     "output_type": "stream",
     "text": [
      "4069 call(s) detected above the threshold.\n",
      "species name                  probablity present\n",
      "Pipistrellus nathusii         0.398\n",
      "Pipistrellus pipistrellus     0.285\n",
      "Nyctalus leisleri             0.143\n",
      "Eptesicus serotinus           0.044\n",
      "Nyctalus noctula              0.027\n",
      "{'true_positives': 2605, 'false_positives': 1464, 'false_negatives': 52, 'true_negatives': 0}\n",
      "0.2 0.2 threshold0p2\n",
      "saving to bd2__det_thresh_sweep_20220826_070000/bd2__threshold0p2_chunksize3_20220826_070000.csv\n",
      "{'true_positives': 2593, 'false_positives': 1326, 'false_negatives': 64, 'true_negatives': 0}\n",
      "0.22 0.22 threshold0p22\n",
      "saving to bd2__det_thresh_sweep_20220826_070000/bd2__threshold0p22_chunksize3_20220826_070000.csv\n"
     ]
    },
    {
     "name": "stderr",
     "output_type": "stream",
     "text": [
      "100%|██████████| 599/599 [06:02<00:00,  1.65it/s]\n"
     ]
    },
    {
     "name": "stdout",
     "output_type": "stream",
     "text": [
      "3780 call(s) detected above the threshold.\n",
      "species name                  probablity present\n",
      "Pipistrellus nathusii         0.401\n",
      "Pipistrellus pipistrellus     0.284\n",
      "Nyctalus leisleri             0.143\n",
      "Eptesicus serotinus           0.044\n",
      "Nyctalus noctula              0.027\n",
      "{'true_positives': 2571, 'false_positives': 1209, 'false_negatives': 86, 'true_negatives': 0}\n",
      "0.24 0.24 threshold0p24\n",
      "saving to bd2__det_thresh_sweep_20220826_070000/bd2__threshold0p24_chunksize3_20220826_070000.csv\n"
     ]
    },
    {
     "name": "stderr",
     "output_type": "stream",
     "text": [
      "100%|██████████| 599/599 [06:03<00:00,  1.65it/s]\n"
     ]
    },
    {
     "name": "stdout",
     "output_type": "stream",
     "text": [
      "3625 call(s) detected above the threshold.\n",
      "species name                  probablity present\n",
      "Pipistrellus nathusii         0.403\n",
      "Pipistrellus pipistrellus     0.284\n",
      "Nyctalus leisleri             0.142\n",
      "Eptesicus serotinus           0.043\n",
      "Nyctalus noctula              0.026\n",
      "{'true_positives': 2545, 'false_positives': 1080, 'false_negatives': 112, 'true_negatives': 0}\n",
      "0.26 0.26 threshold0p26\n",
      "saving to bd2__det_thresh_sweep_20220826_070000/bd2__threshold0p26_chunksize3_20220826_070000.csv\n"
     ]
    },
    {
     "name": "stderr",
     "output_type": "stream",
     "text": [
      "100%|██████████| 599/599 [06:02<00:00,  1.65it/s]\n"
     ]
    },
    {
     "name": "stdout",
     "output_type": "stream",
     "text": [
      "3498 call(s) detected above the threshold.\n",
      "species name                  probablity present\n",
      "Pipistrellus nathusii         0.405\n",
      "Pipistrellus pipistrellus     0.283\n",
      "Nyctalus leisleri             0.142\n",
      "Eptesicus serotinus           0.043\n",
      "Nyctalus noctula              0.026\n",
      "{'true_positives': 2513, 'false_positives': 985, 'false_negatives': 144, 'true_negatives': 0}\n",
      "0.28 0.28 threshold0p28\n",
      "saving to bd2__det_thresh_sweep_20220826_070000/bd2__threshold0p28_chunksize3_20220826_070000.csv\n"
     ]
    },
    {
     "name": "stderr",
     "output_type": "stream",
     "text": [
      "100%|██████████| 599/599 [06:02<00:00,  1.65it/s]\n"
     ]
    },
    {
     "name": "stdout",
     "output_type": "stream",
     "text": [
      "3355 call(s) detected above the threshold.\n",
      "species name                  probablity present\n",
      "Pipistrellus nathusii         0.407\n",
      "Pipistrellus pipistrellus     0.283\n",
      "Nyctalus leisleri             0.141\n",
      "Eptesicus serotinus           0.043\n",
      "Nyctalus noctula              0.026\n",
      "{'true_positives': 2465, 'false_positives': 890, 'false_negatives': 192, 'true_negatives': 0}\n",
      "0.3 0.3 threshold0p3\n",
      "saving to bd2__det_thresh_sweep_20220826_070000/bd2__threshold0p3_chunksize3_20220826_070000.csv\n",
      "{'true_positives': 2422, 'false_positives': 806, 'false_negatives': 235, 'true_negatives': 0}\n",
      "0.32 0.32 threshold0p32\n",
      "saving to bd2__det_thresh_sweep_20220826_070000/bd2__threshold0p32_chunksize3_20220826_070000.csv\n"
     ]
    },
    {
     "name": "stderr",
     "output_type": "stream",
     "text": [
      "100%|██████████| 599/599 [06:04<00:00,  1.64it/s]\n"
     ]
    },
    {
     "name": "stdout",
     "output_type": "stream",
     "text": [
      "3087 call(s) detected above the threshold.\n",
      "species name                  probablity present\n",
      "Pipistrellus nathusii         0.412\n",
      "Pipistrellus pipistrellus     0.283\n",
      "Nyctalus leisleri             0.141\n",
      "Eptesicus serotinus           0.042\n",
      "Nyctalus noctula              0.025\n",
      "{'true_positives': 2382, 'false_positives': 705, 'false_negatives': 275, 'true_negatives': 0}\n",
      "0.34 0.34 threshold0p34\n",
      "saving to bd2__det_thresh_sweep_20220826_070000/bd2__threshold0p34_chunksize3_20220826_070000.csv\n"
     ]
    },
    {
     "name": "stderr",
     "output_type": "stream",
     "text": [
      "100%|██████████| 599/599 [07:02<00:00,  1.42it/s]\n"
     ]
    },
    {
     "name": "stdout",
     "output_type": "stream",
     "text": [
      "2926 call(s) detected above the threshold.\n",
      "species name                  probablity present\n",
      "Pipistrellus nathusii         0.417\n",
      "Pipistrellus pipistrellus     0.283\n",
      "Nyctalus leisleri             0.138\n",
      "Eptesicus serotinus           0.041\n",
      "Nyctalus noctula              0.024\n",
      "{'true_positives': 2312, 'false_positives': 614, 'false_negatives': 345, 'true_negatives': 0}\n",
      "0.36 0.36 threshold0p36\n",
      "saving to bd2__det_thresh_sweep_20220826_070000/bd2__threshold0p36_chunksize3_20220826_070000.csv\n"
     ]
    },
    {
     "name": "stderr",
     "output_type": "stream",
     "text": [
      "100%|██████████| 599/599 [07:33<00:00,  1.32it/s]\n"
     ]
    },
    {
     "name": "stdout",
     "output_type": "stream",
     "text": [
      "2759 call(s) detected above the threshold.\n",
      "species name                  probablity present\n",
      "Pipistrellus nathusii         0.421\n",
      "Pipistrellus pipistrellus     0.282\n",
      "Nyctalus leisleri             0.136\n",
      "Eptesicus serotinus           0.04\n",
      "Nyctalus noctula              0.023\n",
      "{'true_positives': 2244, 'false_positives': 515, 'false_negatives': 413, 'true_negatives': 0}\n",
      "0.38 0.38 threshold0p38\n",
      "saving to bd2__det_thresh_sweep_20220826_070000/bd2__threshold0p38_chunksize3_20220826_070000.csv\n"
     ]
    },
    {
     "name": "stderr",
     "output_type": "stream",
     "text": [
      "100%|██████████| 599/599 [06:53<00:00,  1.45it/s]\n"
     ]
    },
    {
     "name": "stdout",
     "output_type": "stream",
     "text": [
      "2603 call(s) detected above the threshold.\n",
      "species name                  probablity present\n",
      "Pipistrellus nathusii         0.425\n",
      "Pipistrellus pipistrellus     0.281\n",
      "Nyctalus leisleri             0.136\n",
      "Eptesicus serotinus           0.04\n",
      "Nyctalus noctula              0.023\n",
      "{'true_positives': 2183, 'false_positives': 420, 'false_negatives': 474, 'true_negatives': 0}\n",
      "0.4 0.4 threshold0p4\n",
      "saving to bd2__det_thresh_sweep_20220826_070000/bd2__threshold0p4_chunksize3_20220826_070000.csv\n",
      "{'true_positives': 2092, 'false_positives': 336, 'false_negatives': 565, 'true_negatives': 0}\n",
      "0.42 0.42 threshold0p42\n",
      "saving to bd2__det_thresh_sweep_20220826_070000/bd2__threshold0p42_chunksize3_20220826_070000.csv\n"
     ]
    },
    {
     "name": "stderr",
     "output_type": "stream",
     "text": [
      "100%|██████████| 599/599 [06:27<00:00,  1.55it/s]\n"
     ]
    },
    {
     "name": "stdout",
     "output_type": "stream",
     "text": [
      "2257 call(s) detected above the threshold.\n",
      "species name                  probablity present\n",
      "Pipistrellus nathusii         0.438\n",
      "Pipistrellus pipistrellus     0.276\n",
      "Nyctalus leisleri             0.133\n",
      "Eptesicus serotinus           0.038\n",
      "Nyctalus noctula              0.022\n",
      "{'true_positives': 2001, 'false_positives': 256, 'false_negatives': 656, 'true_negatives': 0}\n",
      "0.44 0.44 threshold0p44\n",
      "saving to bd2__det_thresh_sweep_20220826_070000/bd2__threshold0p44_chunksize3_20220826_070000.csv\n"
     ]
    },
    {
     "name": "stderr",
     "output_type": "stream",
     "text": [
      "100%|██████████| 599/599 [05:45<00:00,  1.73it/s]\n"
     ]
    },
    {
     "name": "stdout",
     "output_type": "stream",
     "text": [
      "2090 call(s) detected above the threshold.\n",
      "species name                  probablity present\n",
      "Pipistrellus nathusii         0.445\n",
      "Pipistrellus pipistrellus     0.275\n",
      "Nyctalus leisleri             0.131\n",
      "Eptesicus serotinus           0.036\n",
      "Pipistrellus pygmaeus         0.021\n",
      "{'true_positives': 1907, 'false_positives': 183, 'false_negatives': 750, 'true_negatives': 0}\n",
      "0.46 0.46 threshold0p46\n",
      "saving to bd2__det_thresh_sweep_20220826_070000/bd2__threshold0p46_chunksize3_20220826_070000.csv\n"
     ]
    },
    {
     "name": "stderr",
     "output_type": "stream",
     "text": [
      "100%|██████████| 599/599 [05:44<00:00,  1.74it/s]\n"
     ]
    },
    {
     "name": "stdout",
     "output_type": "stream",
     "text": [
      "1950 call(s) detected above the threshold.\n",
      "species name                  probablity present\n",
      "Pipistrellus nathusii         0.451\n",
      "Pipistrellus pipistrellus     0.275\n",
      "Nyctalus leisleri             0.129\n",
      "Eptesicus serotinus           0.036\n",
      "Pipistrellus pygmaeus         0.021\n",
      "{'true_positives': 1823, 'false_positives': 127, 'false_negatives': 834, 'true_negatives': 0}\n",
      "0.48 0.48 threshold0p48\n",
      "saving to bd2__det_thresh_sweep_20220826_070000/bd2__threshold0p48_chunksize3_20220826_070000.csv\n"
     ]
    },
    {
     "name": "stderr",
     "output_type": "stream",
     "text": [
      "100%|██████████| 599/599 [05:45<00:00,  1.73it/s]\n"
     ]
    },
    {
     "name": "stdout",
     "output_type": "stream",
     "text": [
      "1751 call(s) detected above the threshold.\n",
      "species name                  probablity present\n",
      "Pipistrellus nathusii         0.462\n",
      "Pipistrellus pipistrellus     0.271\n",
      "Nyctalus leisleri             0.127\n",
      "Eptesicus serotinus           0.034\n",
      "Nyctalus noctula              0.019\n",
      "{'true_positives': 1677, 'false_positives': 74, 'false_negatives': 980, 'true_negatives': 0}\n",
      "0.5 0.5 threshold0p5\n",
      "saving to bd2__det_thresh_sweep_20220826_070000/bd2__threshold0p5_chunksize3_20220826_070000.csv\n",
      "{'true_positives': 1542, 'false_positives': 34, 'false_negatives': 1115, 'true_negatives': 0}\n",
      "0.52 0.52 threshold0p52\n",
      "saving to bd2__det_thresh_sweep_20220826_070000/bd2__threshold0p52_chunksize3_20220826_070000.csv\n"
     ]
    },
    {
     "name": "stderr",
     "output_type": "stream",
     "text": [
      "100%|██████████| 599/599 [05:44<00:00,  1.74it/s]\n"
     ]
    },
    {
     "name": "stdout",
     "output_type": "stream",
     "text": [
      "1367 call(s) detected above the threshold.\n",
      "species name                  probablity present\n",
      "Pipistrellus nathusii         0.479\n",
      "Pipistrellus pipistrellus     0.265\n",
      "Nyctalus leisleri             0.124\n",
      "Eptesicus serotinus           0.031\n",
      "Pipistrellus pygmaeus         0.019\n",
      "{'true_positives': 1348, 'false_positives': 19, 'false_negatives': 1309, 'true_negatives': 0}\n",
      "0.54 0.54 threshold0p54\n",
      "saving to bd2__det_thresh_sweep_20220826_070000/bd2__threshold0p54_chunksize3_20220826_070000.csv\n"
     ]
    },
    {
     "name": "stderr",
     "output_type": "stream",
     "text": [
      "100%|██████████| 599/599 [05:46<00:00,  1.73it/s]\n"
     ]
    },
    {
     "name": "stdout",
     "output_type": "stream",
     "text": [
      "1155 call(s) detected above the threshold.\n",
      "species name                  probablity present\n",
      "Pipistrellus nathusii         0.486\n",
      "Pipistrellus pipistrellus     0.26\n",
      "Nyctalus leisleri             0.126\n",
      "Eptesicus serotinus           0.029\n",
      "Nyctalus noctula              0.018\n",
      "{'true_positives': 1152, 'false_positives': 3, 'false_negatives': 1505, 'true_negatives': 0}\n",
      "0.56 0.56 threshold0p56\n",
      "saving to bd2__det_thresh_sweep_20220826_070000/bd2__threshold0p56_chunksize3_20220826_070000.csv\n"
     ]
    },
    {
     "name": "stderr",
     "output_type": "stream",
     "text": [
      "100%|██████████| 599/599 [05:44<00:00,  1.74it/s]\n"
     ]
    },
    {
     "name": "stdout",
     "output_type": "stream",
     "text": [
      "937 call(s) detected above the threshold.\n",
      "species name                  probablity present\n",
      "Pipistrellus nathusii         0.5\n",
      "Pipistrellus pipistrellus     0.255\n",
      "Nyctalus leisleri             0.123\n",
      "Eptesicus serotinus           0.027\n",
      "Pipistrellus pygmaeus         0.017\n",
      "{'true_positives': 937, 'false_positives': 0, 'false_negatives': 1720, 'true_negatives': 0}\n",
      "0.58 0.58 threshold0p58\n",
      "saving to bd2__det_thresh_sweep_20220826_070000/bd2__threshold0p58_chunksize3_20220826_070000.csv\n"
     ]
    },
    {
     "name": "stderr",
     "output_type": "stream",
     "text": [
      "100%|██████████| 599/599 [05:44<00:00,  1.74it/s]\n"
     ]
    },
    {
     "name": "stdout",
     "output_type": "stream",
     "text": [
      "754 call(s) detected above the threshold.\n",
      "species name                  probablity present\n",
      "Pipistrellus nathusii         0.517\n",
      "Pipistrellus pipistrellus     0.243\n",
      "Nyctalus leisleri             0.123\n",
      "Eptesicus serotinus           0.027\n",
      "Rhinolophus ferrumequinum     0.017\n",
      "{'true_positives': 754, 'false_positives': 0, 'false_negatives': 1903, 'true_negatives': 0}\n",
      "0.6 0.6 threshold0p6\n",
      "saving to bd2__det_thresh_sweep_20220826_070000/bd2__threshold0p6_chunksize3_20220826_070000.csv\n",
      "{'true_positives': 549, 'false_positives': 0, 'false_negatives': 2108, 'true_negatives': 0}\n",
      "0.62 0.62 threshold0p62\n",
      "saving to bd2__det_thresh_sweep_20220826_070000/bd2__threshold0p62_chunksize3_20220826_070000.csv\n"
     ]
    },
    {
     "name": "stderr",
     "output_type": "stream",
     "text": [
      "100%|██████████| 599/599 [05:45<00:00,  1.74it/s]\n"
     ]
    },
    {
     "name": "stdout",
     "output_type": "stream",
     "text": [
      "383 call(s) detected above the threshold.\n",
      "species name                  probablity present\n",
      "Pipistrellus nathusii         0.562\n",
      "Pipistrellus pipistrellus     0.206\n",
      "Nyctalus leisleri             0.126\n",
      "Eptesicus serotinus           0.026\n",
      "Rhinolophus ferrumequinum     0.019\n",
      "{'true_positives': 383, 'false_positives': 0, 'false_negatives': 2274, 'true_negatives': 0}\n",
      "0.64 0.64 threshold0p64\n",
      "saving to bd2__det_thresh_sweep_20220826_070000/bd2__threshold0p64_chunksize3_20220826_070000.csv\n"
     ]
    },
    {
     "name": "stderr",
     "output_type": "stream",
     "text": [
      "100%|██████████| 599/599 [05:45<00:00,  1.74it/s]\n"
     ]
    },
    {
     "name": "stdout",
     "output_type": "stream",
     "text": [
      "245 call(s) detected above the threshold.\n",
      "species name                  probablity present\n",
      "Pipistrellus nathusii         0.557\n",
      "Pipistrellus pipistrellus     0.205\n",
      "Nyctalus leisleri             0.139\n",
      "Eptesicus serotinus           0.026\n",
      "Rhinolophus ferrumequinum     0.018\n",
      "{'true_positives': 245, 'false_positives': 0, 'false_negatives': 2412, 'true_negatives': 0}\n",
      "0.66 0.66 threshold0p66\n",
      "saving to bd2__det_thresh_sweep_20220826_070000/bd2__threshold0p66_chunksize3_20220826_070000.csv\n"
     ]
    },
    {
     "name": "stderr",
     "output_type": "stream",
     "text": [
      "100%|██████████| 599/599 [05:46<00:00,  1.73it/s]\n"
     ]
    },
    {
     "name": "stdout",
     "output_type": "stream",
     "text": [
      "160 call(s) detected above the threshold.\n",
      "species name                  probablity present\n",
      "Pipistrellus nathusii         0.542\n",
      "Pipistrellus pipistrellus     0.212\n",
      "Nyctalus leisleri             0.151\n",
      "Eptesicus serotinus           0.025\n",
      "Rhinolophus ferrumequinum     0.018\n",
      "{'true_positives': 160, 'false_positives': 0, 'false_negatives': 2497, 'true_negatives': 0}\n",
      "0.68 0.68 threshold0p68\n",
      "saving to bd2__det_thresh_sweep_20220826_070000/bd2__threshold0p68_chunksize3_20220826_070000.csv\n"
     ]
    },
    {
     "name": "stderr",
     "output_type": "stream",
     "text": [
      "100%|██████████| 599/599 [06:04<00:00,  1.64it/s]\n"
     ]
    },
    {
     "name": "stdout",
     "output_type": "stream",
     "text": [
      "85 call(s) detected above the threshold.\n",
      "species name                  probablity present\n",
      "Pipistrellus nathusii         0.53\n",
      "Pipistrellus pipistrellus     0.232\n",
      "Nyctalus leisleri             0.152\n",
      "Eptesicus serotinus           0.019\n",
      "Rhinolophus ferrumequinum     0.018\n",
      "{'true_positives': 85, 'false_positives': 0, 'false_negatives': 2572, 'true_negatives': 0}\n"
     ]
    }
   ],
   "source": [
    "# resamp_audio_seg = audio_data_resampled[int(resampling_rate*start):int(resampling_rate*(start+duration))]\n",
    "\n",
    "for file_key in file_keys:\n",
    "    wav_filename = file_key\n",
    "    site = file_sites[file_key]\n",
    "    print(wav_filename, site)\n",
    "    plot_file = Path(f'../../Documents/{wav_filename}/input/{wav_filename}.WAV')\n",
    "    resampling_rate, audio_data_resampled = load_audio_file(plot_file, 1, 256000)\n",
    "\n",
    "    raventxt_human_df = pd.read_csv(f'../../Documents/Research/mila_files/mila-human-wav-txt/{wav_filename}.txt', sep='\\t')\n",
    "    bd2_human_df = convert_raventxtdf_to_bd2df(raventxt_human_df)\n",
    "    bd2_human_df.reset_index(inplace=True, drop=True)\n",
    "\n",
    "    for thresh in np.arange(0.1, 0.7, 0.02):\n",
    "        args = dict()\n",
    "        args['time_expansion_factor'] = 1.0\n",
    "        args['detection_threshold'] = round(thresh,2)\n",
    "        args['chunk_size'] = 3\n",
    "        args['spec_slices'] = False\n",
    "        args['quiet'] = False\n",
    "        args['spec_features'] = False\n",
    "        args['cnn_features'] = True\n",
    "        threshold_tag = f\"threshold{str(args['detection_threshold']).replace('.','p')}\"\n",
    "        print(args['detection_threshold'], str(args['detection_threshold']), threshold_tag)\n",
    "        save_dir = Path(f'bd2__det_thresh_sweep_{wav_filename}')\n",
    "        save_loc = Path(f\"bd2__{threshold_tag}_chunksize{args['chunk_size']}_{plot_file.name.split('.')[0]}.csv\")\n",
    "        print(\"saving to\", (save_dir/save_loc))\n",
    "        if not(save_dir.exists()):\n",
    "            save_dir.mkdir()\n",
    "        if not((save_dir/save_loc).exists()):\n",
    "            batdetect2_df_mod = run_detector_on_audio_data(model, args, params, audio_data_resampled, plot_file, resampling_rate)\n",
    "            batdetect2_df_mod.to_csv((save_dir/save_loc))\n",
    "        else:\n",
    "            batdetect2_df_mod = pd.read_csv((save_dir/save_loc), sep=',')\n",
    "        print(return_confusion_matrix_from_comparing_two_detectors(bd2_human_df, batdetect2_df_mod))"
   ]
  },
  {
   "cell_type": "code",
   "execution_count": 38,
   "metadata": {},
   "outputs": [
    {
     "name": "stdout",
     "output_type": "stream",
     "text": [
      "20220826_070000 Central\n",
      "{'true_positives': 2593, 'false_positives': 1326, 'false_negatives': 64, 'true_negatives': 0}\n",
      "{'true_positives': 2422, 'false_positives': 806, 'false_negatives': 235, 'true_negatives': 0}\n",
      "{'true_positives': 2092, 'false_positives': 336, 'false_negatives': 565, 'true_negatives': 0}\n",
      "{'true_positives': 1542, 'false_positives': 34, 'false_negatives': 1115, 'true_negatives': 0}\n"
     ]
    }
   ],
   "source": [
    "wav_filename = file_keys[3]\n",
    "site = file_sites[wav_filename]\n",
    "print(wav_filename, site)\n",
    "plot_file = Path(f'../../Documents/{wav_filename}/input/{wav_filename}.WAV')\n",
    "\n",
    "raventxt_human_df = pd.read_csv(f'../../Documents/Research/mila_files/mila-human-wav-txt/{wav_filename}.txt', sep='\\t')\n",
    "bd2_human_df = convert_raventxtdf_to_bd2df(raventxt_human_df)\n",
    "bd2_human_df.reset_index(inplace=True, drop=True)\n",
    "\n",
    "# Below we filter our detections dataframe to only get the detections corresponding to the above audio file\n",
    "audio_file = sf.SoundFile(plot_file)\n",
    "fs = audio_file.samplerate\n",
    "start = 900\n",
    "duration = 600\n",
    "audio_file.seek(int(fs*start))\n",
    "audio_seg = audio_file.read(int(fs*duration))\n",
    "lower_dB = -60\n",
    "upper_dB = 0\n",
    "vmin = 20*np.log10(np.max(audio_seg)) + lower_dB # hide anything below lower_dB dB\n",
    "vmax = 20*np.log10(np.max(audio_seg)) + upper_dB # hide anything above upper_dB dB\n",
    "audio_features = dict()\n",
    "audio_features['file_path'] = Path(plot_file)\n",
    "audio_features['audio_seg'] = audio_seg\n",
    "audio_features['sample_rate'] = fs\n",
    "audio_features['start'] = start\n",
    "audio_features['duration'] = duration\n",
    "\n",
    "spec_features = dict()\n",
    "spec_features['NFFT'] = 1024 # When segments are short, NFFT should also be small to best see calls (must always be > 128)\n",
    "spec_features['cmap'] = 'jet' # This colormap shows best contrast between noise and signals\n",
    "spec_features['vmin'] = vmin\n",
    "spec_features['vmax'] = vmax\n",
    "\n",
    "spec_features['plot_title'] = f\"Mila's detections on {audio_features['file_path'].name} in {site}\"\n",
    "# plot_dets_over_audio(audio_features, spec_features, bd2_human_df)\n",
    "\n",
    "for det_thresh in np.round(np.arange(0.2, 0.6, 0.1), 2):\n",
    "    threshold_tag = f\"threshold{str(det_thresh).replace('.','p')}\"\n",
    "    save_dir = Path(f'bd2__det_thresh_sweep_{wav_filename}')\n",
    "    save_loc = Path(f\"bd2__{threshold_tag}_chunksize{args['chunk_size']}_{plot_file.name.split('.')[0]}.csv\")\n",
    "    batdetect2_df_mod = pd.read_csv((save_dir/save_loc), sep=',')\n",
    "    \n",
    "    spec_features['plot_title'] = f\"Batdetect2 detections on {audio_features['file_path'].name} in {site} Threshold: {det_thresh}\"\n",
    "    # plot_dets_over_audio(audio_features, spec_features, batdetect2_df_mod)\n",
    "    print(return_confusion_matrix_from_comparing_two_detectors(bd2_human_df, batdetect2_df_mod))"
   ]
  },
  {
   "cell_type": "code",
   "execution_count": 18,
   "metadata": {},
   "outputs": [],
   "source": [
    "# for det_thresh in [0.0, 0.1, 0.2, 0.3, 0.4, 0.5, 0.6, 0.7, 0.8, 0.9]:\n",
    "#     batdetect2_df = pd.read_csv(f\"bd2__threshold{str(det_thresh).replace('.','p')}_chunksize3_{plot_file.name.split('.')[0]}.csv\", sep=',')\n",
    "#     print(return_confusion_matrix_from_comparing_two_detectors(bd2_human_df, batdetect2_df))"
   ]
  }
 ],
 "metadata": {
  "kernelspec": {
   "display_name": "Python 3",
   "language": "python",
   "name": "python3"
  },
  "language_info": {
   "codemirror_mode": {
    "name": "ipython",
    "version": 3
   },
   "file_extension": ".py",
   "mimetype": "text/x-python",
   "name": "python",
   "nbconvert_exporter": "python",
   "pygments_lexer": "ipython3",
   "version": "3.9.16"
  },
  "orig_nbformat": 4
 },
 "nbformat": 4,
 "nbformat_minor": 2
}
